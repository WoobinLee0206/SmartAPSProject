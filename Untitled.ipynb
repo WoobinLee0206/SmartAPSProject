{
 "cells": [
  {
   "cell_type": "code",
   "execution_count": 6,
   "metadata": {},
   "outputs": [
    {
     "name": "stdout",
     "output_type": "stream",
     "text": [
      "Requirement already satisfied: pandas in c:\\users\\user\\appdata\\local\\programs\\python\\python38-32\\lib\\site-packages (1.1.4)"
     ]
    },
    {
     "name": "stderr",
     "output_type": "stream",
     "text": [
      "WARNING: You are using pip version 20.2.1; however, version 20.2.4 is available.\n",
      "You should consider upgrading via the 'c:\\users\\user\\appdata\\local\\programs\\python\\python38-32\\python.exe -m pip install --upgrade pip' command.\n"
     ]
    },
    {
     "name": "stdout",
     "output_type": "stream",
     "text": [
      "\n",
      "Requirement already satisfied: plotly in c:\\users\\user\\appdata\\local\\programs\\python\\python38-32\\lib\\site-packages (4.13.0)\n",
      "Requirement already satisfied: pytz>=2017.2 in c:\\users\\user\\appdata\\local\\programs\\python\\python38-32\\lib\\site-packages (from pandas) (2020.4)\n",
      "Requirement already satisfied: numpy>=1.15.4 in c:\\users\\user\\appdata\\local\\programs\\python\\python38-32\\lib\\site-packages (from pandas) (1.19.1)\n",
      "Requirement already satisfied: python-dateutil>=2.7.3 in c:\\users\\user\\appdata\\local\\programs\\python\\python38-32\\lib\\site-packages (from pandas) (2.8.1)\n",
      "Requirement already satisfied: retrying>=1.3.3 in c:\\users\\user\\appdata\\local\\programs\\python\\python38-32\\lib\\site-packages (from plotly) (1.3.3)\n",
      "Requirement already satisfied: six in c:\\users\\user\\appdata\\local\\programs\\python\\python38-32\\lib\\site-packages (from plotly) (1.15.0)\n",
      "Requirement already satisfied: pymysql in c:\\users\\user\\appdata\\local\\programs\\python\\python38-32\\lib\\site-packages (0.10.0)\n"
     ]
    },
    {
     "name": "stderr",
     "output_type": "stream",
     "text": [
      "WARNING: You are using pip version 20.2.1; however, version 20.2.4 is available.\n",
      "You should consider upgrading via the 'c:\\users\\user\\appdata\\local\\programs\\python\\python38-32\\python.exe -m pip install --upgrade pip' command.\n"
     ]
    }
   ],
   "source": [
    "!pip install pandas plotly\n",
    "!pip install pymysql"
   ]
  },
  {
   "cell_type": "code",
   "execution_count": 8,
   "metadata": {},
   "outputs": [],
   "source": [
    "import pandas as pd\n",
    "import pymysql"
   ]
  },
  {
   "cell_type": "code",
   "execution_count": 9,
   "metadata": {},
   "outputs": [],
   "source": [
    "db = pymysql.connect(host='localhost', port=3306, user='root', passwd='1234', db='project')"
   ]
  },
  {
   "cell_type": "code",
   "execution_count": 10,
   "metadata": {},
   "outputs": [],
   "source": [
    "cursor = db.cursor()\n",
    "cursor.execute(\n",
    "    \"\"\"\n",
    "        SELECT * FROM equipment\n",
    "    \"\"\"\n",
    ")\n",
    "data_list = cursor.fetchall()"
   ]
  },
  {
   "cell_type": "code",
   "execution_count": 11,
   "metadata": {},
   "outputs": [
    {
     "data": {
      "text/plain": [
       "(('LINE01', 'EQP11', 'EQP11', '1.PRESS', 'PRESET01', 'IDLE', 'AUTO'),\n",
       " ('LINE01', 'EQP12', 'EQP12', '1.PRESS', 'PRESET01', 'IDLE', 'AUTO'),\n",
       " ('LINE01', 'EQP13', 'EQP13', '1.PRESS', 'PRESET01', 'IDLE', 'AUTO'),\n",
       " ('LINE01', 'EQP21', 'EQP21', '2.PAINT', 'PRESET01', 'IDLE', 'AUTO'),\n",
       " ('LINE01', 'EQP22', 'EQP22', '2.PAINT', 'PRESET01', 'IDLE', 'AUTO'),\n",
       " ('LINE01', 'EQP31', 'EQP31', '3.FINISH', 'PRESET01', 'IDLE', 'AUTO'),\n",
       " ('LINE01', 'EQP32', 'EQP32', '3.FINISH', 'PRESET01', 'IDLE', 'AUTO'),\n",
       " ('LINE01', 'EQP33', 'EQP33', '3.FINISH', 'PRESET01', 'IDLE', 'AUTO'))"
      ]
     },
     "execution_count": 11,
     "metadata": {},
     "output_type": "execute_result"
    }
   ],
   "source": [
    "data_list"
   ]
  },
  {
   "cell_type": "code",
   "execution_count": 13,
   "metadata": {},
   "outputs": [],
   "source": [
    "df = pd.DataFrame(data_list)"
   ]
  },
  {
   "cell_type": "code",
   "execution_count": 14,
   "metadata": {},
   "outputs": [
    {
     "data": {
      "text/html": [
       "<div>\n",
       "<style scoped>\n",
       "    .dataframe tbody tr th:only-of-type {\n",
       "        vertical-align: middle;\n",
       "    }\n",
       "\n",
       "    .dataframe tbody tr th {\n",
       "        vertical-align: top;\n",
       "    }\n",
       "\n",
       "    .dataframe thead th {\n",
       "        text-align: right;\n",
       "    }\n",
       "</style>\n",
       "<table border=\"1\" class=\"dataframe\">\n",
       "  <thead>\n",
       "    <tr style=\"text-align: right;\">\n",
       "      <th></th>\n",
       "      <th>0</th>\n",
       "      <th>1</th>\n",
       "      <th>2</th>\n",
       "      <th>3</th>\n",
       "      <th>4</th>\n",
       "      <th>5</th>\n",
       "      <th>6</th>\n",
       "    </tr>\n",
       "  </thead>\n",
       "  <tbody>\n",
       "    <tr>\n",
       "      <th>0</th>\n",
       "      <td>LINE01</td>\n",
       "      <td>EQP11</td>\n",
       "      <td>EQP11</td>\n",
       "      <td>1.PRESS</td>\n",
       "      <td>PRESET01</td>\n",
       "      <td>IDLE</td>\n",
       "      <td>AUTO</td>\n",
       "    </tr>\n",
       "    <tr>\n",
       "      <th>1</th>\n",
       "      <td>LINE01</td>\n",
       "      <td>EQP12</td>\n",
       "      <td>EQP12</td>\n",
       "      <td>1.PRESS</td>\n",
       "      <td>PRESET01</td>\n",
       "      <td>IDLE</td>\n",
       "      <td>AUTO</td>\n",
       "    </tr>\n",
       "    <tr>\n",
       "      <th>2</th>\n",
       "      <td>LINE01</td>\n",
       "      <td>EQP13</td>\n",
       "      <td>EQP13</td>\n",
       "      <td>1.PRESS</td>\n",
       "      <td>PRESET01</td>\n",
       "      <td>IDLE</td>\n",
       "      <td>AUTO</td>\n",
       "    </tr>\n",
       "    <tr>\n",
       "      <th>3</th>\n",
       "      <td>LINE01</td>\n",
       "      <td>EQP21</td>\n",
       "      <td>EQP21</td>\n",
       "      <td>2.PAINT</td>\n",
       "      <td>PRESET01</td>\n",
       "      <td>IDLE</td>\n",
       "      <td>AUTO</td>\n",
       "    </tr>\n",
       "    <tr>\n",
       "      <th>4</th>\n",
       "      <td>LINE01</td>\n",
       "      <td>EQP22</td>\n",
       "      <td>EQP22</td>\n",
       "      <td>2.PAINT</td>\n",
       "      <td>PRESET01</td>\n",
       "      <td>IDLE</td>\n",
       "      <td>AUTO</td>\n",
       "    </tr>\n",
       "    <tr>\n",
       "      <th>5</th>\n",
       "      <td>LINE01</td>\n",
       "      <td>EQP31</td>\n",
       "      <td>EQP31</td>\n",
       "      <td>3.FINISH</td>\n",
       "      <td>PRESET01</td>\n",
       "      <td>IDLE</td>\n",
       "      <td>AUTO</td>\n",
       "    </tr>\n",
       "    <tr>\n",
       "      <th>6</th>\n",
       "      <td>LINE01</td>\n",
       "      <td>EQP32</td>\n",
       "      <td>EQP32</td>\n",
       "      <td>3.FINISH</td>\n",
       "      <td>PRESET01</td>\n",
       "      <td>IDLE</td>\n",
       "      <td>AUTO</td>\n",
       "    </tr>\n",
       "    <tr>\n",
       "      <th>7</th>\n",
       "      <td>LINE01</td>\n",
       "      <td>EQP33</td>\n",
       "      <td>EQP33</td>\n",
       "      <td>3.FINISH</td>\n",
       "      <td>PRESET01</td>\n",
       "      <td>IDLE</td>\n",
       "      <td>AUTO</td>\n",
       "    </tr>\n",
       "  </tbody>\n",
       "</table>\n",
       "</div>"
      ],
      "text/plain": [
       "        0      1      2         3         4     5     6\n",
       "0  LINE01  EQP11  EQP11   1.PRESS  PRESET01  IDLE  AUTO\n",
       "1  LINE01  EQP12  EQP12   1.PRESS  PRESET01  IDLE  AUTO\n",
       "2  LINE01  EQP13  EQP13   1.PRESS  PRESET01  IDLE  AUTO\n",
       "3  LINE01  EQP21  EQP21   2.PAINT  PRESET01  IDLE  AUTO\n",
       "4  LINE01  EQP22  EQP22   2.PAINT  PRESET01  IDLE  AUTO\n",
       "5  LINE01  EQP31  EQP31  3.FINISH  PRESET01  IDLE  AUTO\n",
       "6  LINE01  EQP32  EQP32  3.FINISH  PRESET01  IDLE  AUTO\n",
       "7  LINE01  EQP33  EQP33  3.FINISH  PRESET01  IDLE  AUTO"
      ]
     },
     "execution_count": 14,
     "metadata": {},
     "output_type": "execute_result"
    }
   ],
   "source": [
    "df"
   ]
  },
  {
   "cell_type": "code",
   "execution_count": 18,
   "metadata": {},
   "outputs": [
    {
     "data": {
      "text/html": [
       "<div>\n",
       "<style scoped>\n",
       "    .dataframe tbody tr th:only-of-type {\n",
       "        vertical-align: middle;\n",
       "    }\n",
       "\n",
       "    .dataframe tbody tr th {\n",
       "        vertical-align: top;\n",
       "    }\n",
       "\n",
       "    .dataframe thead th {\n",
       "        text-align: right;\n",
       "    }\n",
       "</style>\n",
       "<table border=\"1\" class=\"dataframe\">\n",
       "  <thead>\n",
       "    <tr style=\"text-align: right;\">\n",
       "      <th></th>\n",
       "      <th>3</th>\n",
       "      <th>4</th>\n",
       "      <th>5</th>\n",
       "    </tr>\n",
       "  </thead>\n",
       "  <tbody>\n",
       "    <tr>\n",
       "      <th>0</th>\n",
       "      <td>1.PRESS</td>\n",
       "      <td>PRESET01</td>\n",
       "      <td>IDLE</td>\n",
       "    </tr>\n",
       "    <tr>\n",
       "      <th>1</th>\n",
       "      <td>1.PRESS</td>\n",
       "      <td>PRESET01</td>\n",
       "      <td>IDLE</td>\n",
       "    </tr>\n",
       "    <tr>\n",
       "      <th>2</th>\n",
       "      <td>1.PRESS</td>\n",
       "      <td>PRESET01</td>\n",
       "      <td>IDLE</td>\n",
       "    </tr>\n",
       "    <tr>\n",
       "      <th>3</th>\n",
       "      <td>2.PAINT</td>\n",
       "      <td>PRESET01</td>\n",
       "      <td>IDLE</td>\n",
       "    </tr>\n",
       "    <tr>\n",
       "      <th>4</th>\n",
       "      <td>2.PAINT</td>\n",
       "      <td>PRESET01</td>\n",
       "      <td>IDLE</td>\n",
       "    </tr>\n",
       "    <tr>\n",
       "      <th>5</th>\n",
       "      <td>3.FINISH</td>\n",
       "      <td>PRESET01</td>\n",
       "      <td>IDLE</td>\n",
       "    </tr>\n",
       "    <tr>\n",
       "      <th>6</th>\n",
       "      <td>3.FINISH</td>\n",
       "      <td>PRESET01</td>\n",
       "      <td>IDLE</td>\n",
       "    </tr>\n",
       "    <tr>\n",
       "      <th>7</th>\n",
       "      <td>3.FINISH</td>\n",
       "      <td>PRESET01</td>\n",
       "      <td>IDLE</td>\n",
       "    </tr>\n",
       "  </tbody>\n",
       "</table>\n",
       "</div>"
      ],
      "text/plain": [
       "          3         4     5\n",
       "0   1.PRESS  PRESET01  IDLE\n",
       "1   1.PRESS  PRESET01  IDLE\n",
       "2   1.PRESS  PRESET01  IDLE\n",
       "3   2.PAINT  PRESET01  IDLE\n",
       "4   2.PAINT  PRESET01  IDLE\n",
       "5  3.FINISH  PRESET01  IDLE\n",
       "6  3.FINISH  PRESET01  IDLE\n",
       "7  3.FINISH  PRESET01  IDLE"
      ]
     },
     "execution_count": 18,
     "metadata": {},
     "output_type": "execute_result"
    }
   ],
   "source": [
    "df.loc[:, 3: 5]"
   ]
  },
  {
   "cell_type": "code",
   "execution_count": 19,
   "metadata": {},
   "outputs": [],
   "source": [
    "import plotly.express as px"
   ]
  },
  {
   "cell_type": "code",
   "execution_count": 23,
   "metadata": {},
   "outputs": [],
   "source": [
    "result_data = pd.read_csv('sample.csv', encoding='cp949')\n",
    "result_data = result_data.drop(['VERSION_NO', 'LINE_ID'], axis=1)"
   ]
  },
  {
   "cell_type": "code",
   "execution_count": 24,
   "metadata": {},
   "outputs": [
    {
     "data": {
      "text/html": [
       "<div>\n",
       "<style scoped>\n",
       "    .dataframe tbody tr th:only-of-type {\n",
       "        vertical-align: middle;\n",
       "    }\n",
       "\n",
       "    .dataframe tbody tr th {\n",
       "        vertical-align: top;\n",
       "    }\n",
       "\n",
       "    .dataframe thead th {\n",
       "        text-align: right;\n",
       "    }\n",
       "</style>\n",
       "<table border=\"1\" class=\"dataframe\">\n",
       "  <thead>\n",
       "    <tr style=\"text-align: right;\">\n",
       "      <th></th>\n",
       "      <th>EQP_ID</th>\n",
       "      <th>LOT_ID</th>\n",
       "      <th>PRODUCT_ID</th>\n",
       "      <th>PROCESS_ID</th>\n",
       "      <th>STEP_ID</th>\n",
       "      <th>PROCESS_QTY</th>\n",
       "      <th>DISPATCH_IN_TIME</th>\n",
       "      <th>START_TIME</th>\n",
       "      <th>END_TIME</th>\n",
       "      <th>MACHINE_STATE</th>\n",
       "      <th>DUE_DATE</th>\n",
       "    </tr>\n",
       "  </thead>\n",
       "  <tbody>\n",
       "    <tr>\n",
       "      <th>0</th>\n",
       "      <td>EQP21</td>\n",
       "      <td>LOT_WIP_KN_01</td>\n",
       "      <td>Tumbler_KANU</td>\n",
       "      <td>PROC_Tumbler_KANU</td>\n",
       "      <td>PAINT</td>\n",
       "      <td>32</td>\n",
       "      <td>2019-11-08 0:00</td>\n",
       "      <td>2019-11-08 0:00</td>\n",
       "      <td>2019-11-08 1:50</td>\n",
       "      <td>BUSY</td>\n",
       "      <td>9999-12-31 23:59</td>\n",
       "    </tr>\n",
       "    <tr>\n",
       "      <th>1</th>\n",
       "      <td>EQP22</td>\n",
       "      <td>LOT_WIP_SB_01</td>\n",
       "      <td>Tumbler_STARBUCKS</td>\n",
       "      <td>PROC_Tumbler_STARBUCKS</td>\n",
       "      <td>PAINT</td>\n",
       "      <td>32</td>\n",
       "      <td>2019-11-08 0:00</td>\n",
       "      <td>2019-11-08 0:00</td>\n",
       "      <td>2019-11-08 4:30</td>\n",
       "      <td>BUSY</td>\n",
       "      <td>9999-12-31 23:59</td>\n",
       "    </tr>\n",
       "    <tr>\n",
       "      <th>2</th>\n",
       "      <td>EQP11</td>\n",
       "      <td>LOT_Tumbler_KANU_3</td>\n",
       "      <td>Tumbler_KANU</td>\n",
       "      <td>PROC_Tumbler_KANU</td>\n",
       "      <td>PRESS</td>\n",
       "      <td>32</td>\n",
       "      <td>2019-11-08 0:00</td>\n",
       "      <td>2019-11-08 0:00</td>\n",
       "      <td>2019-11-08 0:53</td>\n",
       "      <td>BUSY</td>\n",
       "      <td>2019-11-08 19:00</td>\n",
       "    </tr>\n",
       "    <tr>\n",
       "      <th>3</th>\n",
       "      <td>EQP12</td>\n",
       "      <td>LOT_Tumbler_KANU_4</td>\n",
       "      <td>Tumbler_KANU</td>\n",
       "      <td>PROC_Tumbler_KANU</td>\n",
       "      <td>PRESS</td>\n",
       "      <td>32</td>\n",
       "      <td>2019-11-08 0:00</td>\n",
       "      <td>2019-11-08 0:00</td>\n",
       "      <td>2019-11-08 0:53</td>\n",
       "      <td>BUSY</td>\n",
       "      <td>2019-11-08 19:00</td>\n",
       "    </tr>\n",
       "    <tr>\n",
       "      <th>4</th>\n",
       "      <td>EQP13</td>\n",
       "      <td>LOT_Tumbler_KANU_5</td>\n",
       "      <td>Tumbler_KANU</td>\n",
       "      <td>PROC_Tumbler_KANU</td>\n",
       "      <td>PRESS</td>\n",
       "      <td>32</td>\n",
       "      <td>2019-11-08 0:00</td>\n",
       "      <td>2019-11-08 0:00</td>\n",
       "      <td>2019-11-08 0:53</td>\n",
       "      <td>BUSY</td>\n",
       "      <td>2019-11-08 19:00</td>\n",
       "    </tr>\n",
       "    <tr>\n",
       "      <th>...</th>\n",
       "      <td>...</td>\n",
       "      <td>...</td>\n",
       "      <td>...</td>\n",
       "      <td>...</td>\n",
       "      <td>...</td>\n",
       "      <td>...</td>\n",
       "      <td>...</td>\n",
       "      <td>...</td>\n",
       "      <td>...</td>\n",
       "      <td>...</td>\n",
       "      <td>...</td>\n",
       "    </tr>\n",
       "    <tr>\n",
       "      <th>359</th>\n",
       "      <td>EQP31</td>\n",
       "      <td>LOT_Tumbler_STARBUCKS_20</td>\n",
       "      <td>Tumbler_STARBUCKS</td>\n",
       "      <td>PROC_Tumbler_STARBUCKS</td>\n",
       "      <td>FINISH</td>\n",
       "      <td>32</td>\n",
       "      <td>2019-11-14 19:20</td>\n",
       "      <td>2019-11-14 19:50</td>\n",
       "      <td>2019-11-14 23:23</td>\n",
       "      <td>BUSY</td>\n",
       "      <td>2019-11-14 23:00</td>\n",
       "    </tr>\n",
       "    <tr>\n",
       "      <th>360</th>\n",
       "      <td>EQP22</td>\n",
       "      <td>LOT_Tumbler_KANU_41</td>\n",
       "      <td>Tumbler_KANU</td>\n",
       "      <td>PROC_Tumbler_KANU</td>\n",
       "      <td>PAINT</td>\n",
       "      <td>32</td>\n",
       "      <td>2019-11-14 3:40</td>\n",
       "      <td>2019-11-14 21:50</td>\n",
       "      <td>2019-11-14 22:20</td>\n",
       "      <td>SETUP</td>\n",
       "      <td>2019-11-14 21:00</td>\n",
       "    </tr>\n",
       "    <tr>\n",
       "      <th>361</th>\n",
       "      <td>EQP32</td>\n",
       "      <td>LOT_Tumbler_STARBUCKS_19</td>\n",
       "      <td>Tumbler_STARBUCKS</td>\n",
       "      <td>PROC_Tumbler_STARBUCKS</td>\n",
       "      <td>FINISH</td>\n",
       "      <td>32</td>\n",
       "      <td>2019-11-14 21:50</td>\n",
       "      <td>2019-11-14 21:50</td>\n",
       "      <td>2019-11-14 22:20</td>\n",
       "      <td>SETUP</td>\n",
       "      <td>2019-11-14 23:00</td>\n",
       "    </tr>\n",
       "    <tr>\n",
       "      <th>362</th>\n",
       "      <td>EQP22</td>\n",
       "      <td>LOT_Tumbler_KANU_41</td>\n",
       "      <td>Tumbler_KANU</td>\n",
       "      <td>PROC_Tumbler_KANU</td>\n",
       "      <td>PAINT</td>\n",
       "      <td>32</td>\n",
       "      <td>2019-11-14 3:40</td>\n",
       "      <td>2019-11-14 22:20</td>\n",
       "      <td>2019-11-15 1:00</td>\n",
       "      <td>BUSY</td>\n",
       "      <td>2019-11-14 21:00</td>\n",
       "    </tr>\n",
       "    <tr>\n",
       "      <th>363</th>\n",
       "      <td>EQP32</td>\n",
       "      <td>LOT_Tumbler_STARBUCKS_19</td>\n",
       "      <td>Tumbler_STARBUCKS</td>\n",
       "      <td>PROC_Tumbler_STARBUCKS</td>\n",
       "      <td>FINISH</td>\n",
       "      <td>32</td>\n",
       "      <td>2019-11-14 21:50</td>\n",
       "      <td>2019-11-14 22:20</td>\n",
       "      <td>2019-11-15 1:53</td>\n",
       "      <td>BUSY</td>\n",
       "      <td>2019-11-14 23:00</td>\n",
       "    </tr>\n",
       "  </tbody>\n",
       "</table>\n",
       "<p>364 rows × 11 columns</p>\n",
       "</div>"
      ],
      "text/plain": [
       "    EQP_ID                    LOT_ID         PRODUCT_ID  \\\n",
       "0    EQP21             LOT_WIP_KN_01       Tumbler_KANU   \n",
       "1    EQP22             LOT_WIP_SB_01  Tumbler_STARBUCKS   \n",
       "2    EQP11        LOT_Tumbler_KANU_3       Tumbler_KANU   \n",
       "3    EQP12        LOT_Tumbler_KANU_4       Tumbler_KANU   \n",
       "4    EQP13        LOT_Tumbler_KANU_5       Tumbler_KANU   \n",
       "..     ...                       ...                ...   \n",
       "359  EQP31  LOT_Tumbler_STARBUCKS_20  Tumbler_STARBUCKS   \n",
       "360  EQP22       LOT_Tumbler_KANU_41       Tumbler_KANU   \n",
       "361  EQP32  LOT_Tumbler_STARBUCKS_19  Tumbler_STARBUCKS   \n",
       "362  EQP22       LOT_Tumbler_KANU_41       Tumbler_KANU   \n",
       "363  EQP32  LOT_Tumbler_STARBUCKS_19  Tumbler_STARBUCKS   \n",
       "\n",
       "                 PROCESS_ID STEP_ID  PROCESS_QTY  DISPATCH_IN_TIME  \\\n",
       "0         PROC_Tumbler_KANU   PAINT           32   2019-11-08 0:00   \n",
       "1    PROC_Tumbler_STARBUCKS   PAINT           32   2019-11-08 0:00   \n",
       "2         PROC_Tumbler_KANU   PRESS           32   2019-11-08 0:00   \n",
       "3         PROC_Tumbler_KANU   PRESS           32   2019-11-08 0:00   \n",
       "4         PROC_Tumbler_KANU   PRESS           32   2019-11-08 0:00   \n",
       "..                      ...     ...          ...               ...   \n",
       "359  PROC_Tumbler_STARBUCKS  FINISH           32  2019-11-14 19:20   \n",
       "360       PROC_Tumbler_KANU   PAINT           32   2019-11-14 3:40   \n",
       "361  PROC_Tumbler_STARBUCKS  FINISH           32  2019-11-14 21:50   \n",
       "362       PROC_Tumbler_KANU   PAINT           32   2019-11-14 3:40   \n",
       "363  PROC_Tumbler_STARBUCKS  FINISH           32  2019-11-14 21:50   \n",
       "\n",
       "           START_TIME          END_TIME MACHINE_STATE          DUE_DATE  \n",
       "0     2019-11-08 0:00   2019-11-08 1:50          BUSY  9999-12-31 23:59  \n",
       "1     2019-11-08 0:00   2019-11-08 4:30          BUSY  9999-12-31 23:59  \n",
       "2     2019-11-08 0:00   2019-11-08 0:53          BUSY  2019-11-08 19:00  \n",
       "3     2019-11-08 0:00   2019-11-08 0:53          BUSY  2019-11-08 19:00  \n",
       "4     2019-11-08 0:00   2019-11-08 0:53          BUSY  2019-11-08 19:00  \n",
       "..                ...               ...           ...               ...  \n",
       "359  2019-11-14 19:50  2019-11-14 23:23          BUSY  2019-11-14 23:00  \n",
       "360  2019-11-14 21:50  2019-11-14 22:20         SETUP  2019-11-14 21:00  \n",
       "361  2019-11-14 21:50  2019-11-14 22:20         SETUP  2019-11-14 23:00  \n",
       "362  2019-11-14 22:20   2019-11-15 1:00          BUSY  2019-11-14 21:00  \n",
       "363  2019-11-14 22:20   2019-11-15 1:53          BUSY  2019-11-14 23:00  \n",
       "\n",
       "[364 rows x 11 columns]"
      ]
     },
     "execution_count": 24,
     "metadata": {},
     "output_type": "execute_result"
    }
   ],
   "source": [
    "result_data"
   ]
  },
  {
   "cell_type": "code",
   "execution_count": 32,
   "metadata": {},
   "outputs": [],
   "source": [
    "df = result_data.copy()"
   ]
  },
  {
   "cell_type": "code",
   "execution_count": 34,
   "metadata": {},
   "outputs": [
    {
     "data": {
      "text/html": [
       "<div>\n",
       "<style scoped>\n",
       "    .dataframe tbody tr th:only-of-type {\n",
       "        vertical-align: middle;\n",
       "    }\n",
       "\n",
       "    .dataframe tbody tr th {\n",
       "        vertical-align: top;\n",
       "    }\n",
       "\n",
       "    .dataframe thead th {\n",
       "        text-align: right;\n",
       "    }\n",
       "</style>\n",
       "<table border=\"1\" class=\"dataframe\">\n",
       "  <thead>\n",
       "    <tr style=\"text-align: right;\">\n",
       "      <th></th>\n",
       "      <th>EQP_ID</th>\n",
       "      <th>LOT_ID</th>\n",
       "      <th>PRODUCT_ID</th>\n",
       "      <th>PROCESS_ID</th>\n",
       "      <th>STEP_ID</th>\n",
       "      <th>PROCESS_QTY</th>\n",
       "      <th>DISPATCH_IN_TIME</th>\n",
       "      <th>START_TIME</th>\n",
       "      <th>END_TIME</th>\n",
       "      <th>MACHINE_STATE</th>\n",
       "      <th>DUE_DATE</th>\n",
       "    </tr>\n",
       "  </thead>\n",
       "  <tbody>\n",
       "    <tr>\n",
       "      <th>0</th>\n",
       "      <td>EQP21</td>\n",
       "      <td>LOT_WIP_KN_01</td>\n",
       "      <td>Tumbler_KANU</td>\n",
       "      <td>PROC_Tumbler_KANU</td>\n",
       "      <td>PAINT</td>\n",
       "      <td>32</td>\n",
       "      <td>2019-11-08 0:00</td>\n",
       "      <td>2019-11-08 0:00</td>\n",
       "      <td>2019-11-08 1:50</td>\n",
       "      <td>BUSY</td>\n",
       "      <td>9999-12-31 23:59</td>\n",
       "    </tr>\n",
       "    <tr>\n",
       "      <th>1</th>\n",
       "      <td>EQP22</td>\n",
       "      <td>LOT_WIP_SB_01</td>\n",
       "      <td>Tumbler_STARBUCKS</td>\n",
       "      <td>PROC_Tumbler_STARBUCKS</td>\n",
       "      <td>PAINT</td>\n",
       "      <td>32</td>\n",
       "      <td>2019-11-08 0:00</td>\n",
       "      <td>2019-11-08 0:00</td>\n",
       "      <td>2019-11-08 4:30</td>\n",
       "      <td>BUSY</td>\n",
       "      <td>9999-12-31 23:59</td>\n",
       "    </tr>\n",
       "    <tr>\n",
       "      <th>2</th>\n",
       "      <td>EQP11</td>\n",
       "      <td>LOT_Tumbler_KANU_3</td>\n",
       "      <td>Tumbler_KANU</td>\n",
       "      <td>PROC_Tumbler_KANU</td>\n",
       "      <td>PRESS</td>\n",
       "      <td>32</td>\n",
       "      <td>2019-11-08 0:00</td>\n",
       "      <td>2019-11-08 0:00</td>\n",
       "      <td>2019-11-08 0:53</td>\n",
       "      <td>BUSY</td>\n",
       "      <td>2019-11-08 19:00</td>\n",
       "    </tr>\n",
       "    <tr>\n",
       "      <th>3</th>\n",
       "      <td>EQP12</td>\n",
       "      <td>LOT_Tumbler_KANU_4</td>\n",
       "      <td>Tumbler_KANU</td>\n",
       "      <td>PROC_Tumbler_KANU</td>\n",
       "      <td>PRESS</td>\n",
       "      <td>32</td>\n",
       "      <td>2019-11-08 0:00</td>\n",
       "      <td>2019-11-08 0:00</td>\n",
       "      <td>2019-11-08 0:53</td>\n",
       "      <td>BUSY</td>\n",
       "      <td>2019-11-08 19:00</td>\n",
       "    </tr>\n",
       "    <tr>\n",
       "      <th>4</th>\n",
       "      <td>EQP13</td>\n",
       "      <td>LOT_Tumbler_KANU_5</td>\n",
       "      <td>Tumbler_KANU</td>\n",
       "      <td>PROC_Tumbler_KANU</td>\n",
       "      <td>PRESS</td>\n",
       "      <td>32</td>\n",
       "      <td>2019-11-08 0:00</td>\n",
       "      <td>2019-11-08 0:00</td>\n",
       "      <td>2019-11-08 0:53</td>\n",
       "      <td>BUSY</td>\n",
       "      <td>2019-11-08 19:00</td>\n",
       "    </tr>\n",
       "    <tr>\n",
       "      <th>...</th>\n",
       "      <td>...</td>\n",
       "      <td>...</td>\n",
       "      <td>...</td>\n",
       "      <td>...</td>\n",
       "      <td>...</td>\n",
       "      <td>...</td>\n",
       "      <td>...</td>\n",
       "      <td>...</td>\n",
       "      <td>...</td>\n",
       "      <td>...</td>\n",
       "      <td>...</td>\n",
       "    </tr>\n",
       "    <tr>\n",
       "      <th>359</th>\n",
       "      <td>EQP31</td>\n",
       "      <td>LOT_Tumbler_STARBUCKS_20</td>\n",
       "      <td>Tumbler_STARBUCKS</td>\n",
       "      <td>PROC_Tumbler_STARBUCKS</td>\n",
       "      <td>FINISH</td>\n",
       "      <td>32</td>\n",
       "      <td>2019-11-14 19:20</td>\n",
       "      <td>2019-11-14 19:50</td>\n",
       "      <td>2019-11-14 23:23</td>\n",
       "      <td>BUSY</td>\n",
       "      <td>2019-11-14 23:00</td>\n",
       "    </tr>\n",
       "    <tr>\n",
       "      <th>360</th>\n",
       "      <td>EQP22</td>\n",
       "      <td>LOT_Tumbler_KANU_41</td>\n",
       "      <td>Tumbler_KANU</td>\n",
       "      <td>PROC_Tumbler_KANU</td>\n",
       "      <td>PAINT</td>\n",
       "      <td>32</td>\n",
       "      <td>2019-11-14 3:40</td>\n",
       "      <td>2019-11-14 21:50</td>\n",
       "      <td>2019-11-14 22:20</td>\n",
       "      <td>SETUP</td>\n",
       "      <td>2019-11-14 21:00</td>\n",
       "    </tr>\n",
       "    <tr>\n",
       "      <th>361</th>\n",
       "      <td>EQP32</td>\n",
       "      <td>LOT_Tumbler_STARBUCKS_19</td>\n",
       "      <td>Tumbler_STARBUCKS</td>\n",
       "      <td>PROC_Tumbler_STARBUCKS</td>\n",
       "      <td>FINISH</td>\n",
       "      <td>32</td>\n",
       "      <td>2019-11-14 21:50</td>\n",
       "      <td>2019-11-14 21:50</td>\n",
       "      <td>2019-11-14 22:20</td>\n",
       "      <td>SETUP</td>\n",
       "      <td>2019-11-14 23:00</td>\n",
       "    </tr>\n",
       "    <tr>\n",
       "      <th>362</th>\n",
       "      <td>EQP22</td>\n",
       "      <td>LOT_Tumbler_KANU_41</td>\n",
       "      <td>Tumbler_KANU</td>\n",
       "      <td>PROC_Tumbler_KANU</td>\n",
       "      <td>PAINT</td>\n",
       "      <td>32</td>\n",
       "      <td>2019-11-14 3:40</td>\n",
       "      <td>2019-11-14 22:20</td>\n",
       "      <td>2019-11-15 1:00</td>\n",
       "      <td>BUSY</td>\n",
       "      <td>2019-11-14 21:00</td>\n",
       "    </tr>\n",
       "    <tr>\n",
       "      <th>363</th>\n",
       "      <td>EQP32</td>\n",
       "      <td>LOT_Tumbler_STARBUCKS_19</td>\n",
       "      <td>Tumbler_STARBUCKS</td>\n",
       "      <td>PROC_Tumbler_STARBUCKS</td>\n",
       "      <td>FINISH</td>\n",
       "      <td>32</td>\n",
       "      <td>2019-11-14 21:50</td>\n",
       "      <td>2019-11-14 22:20</td>\n",
       "      <td>2019-11-15 1:53</td>\n",
       "      <td>BUSY</td>\n",
       "      <td>2019-11-14 23:00</td>\n",
       "    </tr>\n",
       "  </tbody>\n",
       "</table>\n",
       "<p>364 rows × 11 columns</p>\n",
       "</div>"
      ],
      "text/plain": [
       "    EQP_ID                    LOT_ID         PRODUCT_ID  \\\n",
       "0    EQP21             LOT_WIP_KN_01       Tumbler_KANU   \n",
       "1    EQP22             LOT_WIP_SB_01  Tumbler_STARBUCKS   \n",
       "2    EQP11        LOT_Tumbler_KANU_3       Tumbler_KANU   \n",
       "3    EQP12        LOT_Tumbler_KANU_4       Tumbler_KANU   \n",
       "4    EQP13        LOT_Tumbler_KANU_5       Tumbler_KANU   \n",
       "..     ...                       ...                ...   \n",
       "359  EQP31  LOT_Tumbler_STARBUCKS_20  Tumbler_STARBUCKS   \n",
       "360  EQP22       LOT_Tumbler_KANU_41       Tumbler_KANU   \n",
       "361  EQP32  LOT_Tumbler_STARBUCKS_19  Tumbler_STARBUCKS   \n",
       "362  EQP22       LOT_Tumbler_KANU_41       Tumbler_KANU   \n",
       "363  EQP32  LOT_Tumbler_STARBUCKS_19  Tumbler_STARBUCKS   \n",
       "\n",
       "                 PROCESS_ID STEP_ID  PROCESS_QTY  DISPATCH_IN_TIME  \\\n",
       "0         PROC_Tumbler_KANU   PAINT           32   2019-11-08 0:00   \n",
       "1    PROC_Tumbler_STARBUCKS   PAINT           32   2019-11-08 0:00   \n",
       "2         PROC_Tumbler_KANU   PRESS           32   2019-11-08 0:00   \n",
       "3         PROC_Tumbler_KANU   PRESS           32   2019-11-08 0:00   \n",
       "4         PROC_Tumbler_KANU   PRESS           32   2019-11-08 0:00   \n",
       "..                      ...     ...          ...               ...   \n",
       "359  PROC_Tumbler_STARBUCKS  FINISH           32  2019-11-14 19:20   \n",
       "360       PROC_Tumbler_KANU   PAINT           32   2019-11-14 3:40   \n",
       "361  PROC_Tumbler_STARBUCKS  FINISH           32  2019-11-14 21:50   \n",
       "362       PROC_Tumbler_KANU   PAINT           32   2019-11-14 3:40   \n",
       "363  PROC_Tumbler_STARBUCKS  FINISH           32  2019-11-14 21:50   \n",
       "\n",
       "           START_TIME          END_TIME MACHINE_STATE          DUE_DATE  \n",
       "0     2019-11-08 0:00   2019-11-08 1:50          BUSY  9999-12-31 23:59  \n",
       "1     2019-11-08 0:00   2019-11-08 4:30          BUSY  9999-12-31 23:59  \n",
       "2     2019-11-08 0:00   2019-11-08 0:53          BUSY  2019-11-08 19:00  \n",
       "3     2019-11-08 0:00   2019-11-08 0:53          BUSY  2019-11-08 19:00  \n",
       "4     2019-11-08 0:00   2019-11-08 0:53          BUSY  2019-11-08 19:00  \n",
       "..                ...               ...           ...               ...  \n",
       "359  2019-11-14 19:50  2019-11-14 23:23          BUSY  2019-11-14 23:00  \n",
       "360  2019-11-14 21:50  2019-11-14 22:20         SETUP  2019-11-14 21:00  \n",
       "361  2019-11-14 21:50  2019-11-14 22:20         SETUP  2019-11-14 23:00  \n",
       "362  2019-11-14 22:20   2019-11-15 1:00          BUSY  2019-11-14 21:00  \n",
       "363  2019-11-14 22:20   2019-11-15 1:53          BUSY  2019-11-14 23:00  \n",
       "\n",
       "[364 rows x 11 columns]"
      ]
     },
     "execution_count": 34,
     "metadata": {},
     "output_type": "execute_result"
    }
   ],
   "source": [
    "df"
   ]
  },
  {
   "cell_type": "code",
   "execution_count": 35,
   "metadata": {},
   "outputs": [
    {
     "data": {
      "text/plain": [
       "Index(['EQP_ID', 'LOT_ID', 'PRODUCT_ID', 'PROCESS_ID', 'STEP_ID',\n",
       "       'PROCESS_QTY', 'DISPATCH_IN_TIME', 'START_TIME', 'END_TIME',\n",
       "       'MACHINE_STATE', 'DUE_DATE'],\n",
       "      dtype='object')"
      ]
     },
     "execution_count": 35,
     "metadata": {},
     "output_type": "execute_result"
    }
   ],
   "source": [
    "df.columns"
   ]
  },
  {
   "cell_type": "code",
   "execution_count": 37,
   "metadata": {},
   "outputs": [
    {
     "ename": "ValueError",
     "evalue": "Length mismatch: Expected axis has 11 elements, new values have 8 elements",
     "output_type": "error",
     "traceback": [
      "\u001b[1;31m---------------------------------------------------------------------------\u001b[0m",
      "\u001b[1;31mValueError\u001b[0m                                Traceback (most recent call last)",
      "\u001b[1;32m<ipython-input-37-7303ea0ee761>\u001b[0m in \u001b[0;36m<module>\u001b[1;34m\u001b[0m\n\u001b[1;32m----> 1\u001b[1;33m \u001b[0mdf\u001b[0m\u001b[1;33m.\u001b[0m\u001b[0mcolumns\u001b[0m \u001b[1;33m=\u001b[0m \u001b[1;33m[\u001b[0m\u001b[1;34m\"A\"\u001b[0m\u001b[1;33m,\u001b[0m \u001b[1;34m\"B\"\u001b[0m\u001b[1;33m,\u001b[0m \u001b[1;34m\"C\"\u001b[0m\u001b[1;33m,\u001b[0m \u001b[1;34m\"D\"\u001b[0m\u001b[1;33m,\u001b[0m \u001b[1;34m\"E\"\u001b[0m\u001b[1;33m,\u001b[0m \u001b[1;34m\"F\"\u001b[0m\u001b[1;33m,\u001b[0m \u001b[1;34m\"G\"\u001b[0m\u001b[1;33m,\u001b[0m \u001b[1;34m\"H\"\u001b[0m\u001b[1;33m]\u001b[0m\u001b[1;33m\u001b[0m\u001b[1;33m\u001b[0m\u001b[0m\n\u001b[0m",
      "\u001b[1;32mc:\\users\\user\\appdata\\local\\programs\\python\\python38-32\\lib\\site-packages\\pandas\\core\\generic.py\u001b[0m in \u001b[0;36m__setattr__\u001b[1;34m(self, name, value)\u001b[0m\n\u001b[0;32m   5150\u001b[0m         \u001b[1;32mtry\u001b[0m\u001b[1;33m:\u001b[0m\u001b[1;33m\u001b[0m\u001b[1;33m\u001b[0m\u001b[0m\n\u001b[0;32m   5151\u001b[0m             \u001b[0mobject\u001b[0m\u001b[1;33m.\u001b[0m\u001b[0m__getattribute__\u001b[0m\u001b[1;33m(\u001b[0m\u001b[0mself\u001b[0m\u001b[1;33m,\u001b[0m \u001b[0mname\u001b[0m\u001b[1;33m)\u001b[0m\u001b[1;33m\u001b[0m\u001b[1;33m\u001b[0m\u001b[0m\n\u001b[1;32m-> 5152\u001b[1;33m             \u001b[1;32mreturn\u001b[0m \u001b[0mobject\u001b[0m\u001b[1;33m.\u001b[0m\u001b[0m__setattr__\u001b[0m\u001b[1;33m(\u001b[0m\u001b[0mself\u001b[0m\u001b[1;33m,\u001b[0m \u001b[0mname\u001b[0m\u001b[1;33m,\u001b[0m \u001b[0mvalue\u001b[0m\u001b[1;33m)\u001b[0m\u001b[1;33m\u001b[0m\u001b[1;33m\u001b[0m\u001b[0m\n\u001b[0m\u001b[0;32m   5153\u001b[0m         \u001b[1;32mexcept\u001b[0m \u001b[0mAttributeError\u001b[0m\u001b[1;33m:\u001b[0m\u001b[1;33m\u001b[0m\u001b[1;33m\u001b[0m\u001b[0m\n\u001b[0;32m   5154\u001b[0m             \u001b[1;32mpass\u001b[0m\u001b[1;33m\u001b[0m\u001b[1;33m\u001b[0m\u001b[0m\n",
      "\u001b[1;32mpandas\\_libs\\properties.pyx\u001b[0m in \u001b[0;36mpandas._libs.properties.AxisProperty.__set__\u001b[1;34m()\u001b[0m\n",
      "\u001b[1;32mc:\\users\\user\\appdata\\local\\programs\\python\\python38-32\\lib\\site-packages\\pandas\\core\\generic.py\u001b[0m in \u001b[0;36m_set_axis\u001b[1;34m(self, axis, labels)\u001b[0m\n\u001b[0;32m    562\u001b[0m     \u001b[1;32mdef\u001b[0m \u001b[0m_set_axis\u001b[0m\u001b[1;33m(\u001b[0m\u001b[0mself\u001b[0m\u001b[1;33m,\u001b[0m \u001b[0maxis\u001b[0m\u001b[1;33m:\u001b[0m \u001b[0mint\u001b[0m\u001b[1;33m,\u001b[0m \u001b[0mlabels\u001b[0m\u001b[1;33m:\u001b[0m \u001b[0mIndex\u001b[0m\u001b[1;33m)\u001b[0m \u001b[1;33m->\u001b[0m \u001b[1;32mNone\u001b[0m\u001b[1;33m:\u001b[0m\u001b[1;33m\u001b[0m\u001b[1;33m\u001b[0m\u001b[0m\n\u001b[0;32m    563\u001b[0m         \u001b[0mlabels\u001b[0m \u001b[1;33m=\u001b[0m \u001b[0mensure_index\u001b[0m\u001b[1;33m(\u001b[0m\u001b[0mlabels\u001b[0m\u001b[1;33m)\u001b[0m\u001b[1;33m\u001b[0m\u001b[1;33m\u001b[0m\u001b[0m\n\u001b[1;32m--> 564\u001b[1;33m         \u001b[0mself\u001b[0m\u001b[1;33m.\u001b[0m\u001b[0m_mgr\u001b[0m\u001b[1;33m.\u001b[0m\u001b[0mset_axis\u001b[0m\u001b[1;33m(\u001b[0m\u001b[0maxis\u001b[0m\u001b[1;33m,\u001b[0m \u001b[0mlabels\u001b[0m\u001b[1;33m)\u001b[0m\u001b[1;33m\u001b[0m\u001b[1;33m\u001b[0m\u001b[0m\n\u001b[0m\u001b[0;32m    565\u001b[0m         \u001b[0mself\u001b[0m\u001b[1;33m.\u001b[0m\u001b[0m_clear_item_cache\u001b[0m\u001b[1;33m(\u001b[0m\u001b[1;33m)\u001b[0m\u001b[1;33m\u001b[0m\u001b[1;33m\u001b[0m\u001b[0m\n\u001b[0;32m    566\u001b[0m \u001b[1;33m\u001b[0m\u001b[0m\n",
      "\u001b[1;32mc:\\users\\user\\appdata\\local\\programs\\python\\python38-32\\lib\\site-packages\\pandas\\core\\internals\\managers.py\u001b[0m in \u001b[0;36mset_axis\u001b[1;34m(self, axis, new_labels)\u001b[0m\n\u001b[0;32m    224\u001b[0m \u001b[1;33m\u001b[0m\u001b[0m\n\u001b[0;32m    225\u001b[0m         \u001b[1;32mif\u001b[0m \u001b[0mnew_len\u001b[0m \u001b[1;33m!=\u001b[0m \u001b[0mold_len\u001b[0m\u001b[1;33m:\u001b[0m\u001b[1;33m\u001b[0m\u001b[1;33m\u001b[0m\u001b[0m\n\u001b[1;32m--> 226\u001b[1;33m             raise ValueError(\n\u001b[0m\u001b[0;32m    227\u001b[0m                 \u001b[1;34mf\"Length mismatch: Expected axis has {old_len} elements, new \"\u001b[0m\u001b[1;33m\u001b[0m\u001b[1;33m\u001b[0m\u001b[0m\n\u001b[0;32m    228\u001b[0m                 \u001b[1;34mf\"values have {new_len} elements\"\u001b[0m\u001b[1;33m\u001b[0m\u001b[1;33m\u001b[0m\u001b[0m\n",
      "\u001b[1;31mValueError\u001b[0m: Length mismatch: Expected axis has 11 elements, new values have 8 elements"
     ]
    }
   ],
   "source": [
    "df.columns = [\"A\", \"B\", \"C\", \"D\", \"E\", \"F\", \"G\", \"H\"]"
   ]
  },
  {
   "cell_type": "code",
   "execution_count": 38,
   "metadata": {},
   "outputs": [
    {
     "ename": "AttributeError",
     "evalue": "'DataFrame' object has no attribute 'set_columns'",
     "output_type": "error",
     "traceback": [
      "\u001b[1;31m---------------------------------------------------------------------------\u001b[0m",
      "\u001b[1;31mAttributeError\u001b[0m                            Traceback (most recent call last)",
      "\u001b[1;32m<ipython-input-38-c028cbb1f7a0>\u001b[0m in \u001b[0;36m<module>\u001b[1;34m\u001b[0m\n\u001b[1;32m----> 1\u001b[1;33m \u001b[0mdf\u001b[0m\u001b[1;33m.\u001b[0m\u001b[0mset_columns\u001b[0m\u001b[1;33m\u001b[0m\u001b[1;33m\u001b[0m\u001b[0m\n\u001b[0m",
      "\u001b[1;32mc:\\users\\user\\appdata\\local\\programs\\python\\python38-32\\lib\\site-packages\\pandas\\core\\generic.py\u001b[0m in \u001b[0;36m__getattr__\u001b[1;34m(self, name)\u001b[0m\n\u001b[0;32m   5137\u001b[0m             \u001b[1;32mif\u001b[0m \u001b[0mself\u001b[0m\u001b[1;33m.\u001b[0m\u001b[0m_info_axis\u001b[0m\u001b[1;33m.\u001b[0m\u001b[0m_can_hold_identifiers_and_holds_name\u001b[0m\u001b[1;33m(\u001b[0m\u001b[0mname\u001b[0m\u001b[1;33m)\u001b[0m\u001b[1;33m:\u001b[0m\u001b[1;33m\u001b[0m\u001b[1;33m\u001b[0m\u001b[0m\n\u001b[0;32m   5138\u001b[0m                 \u001b[1;32mreturn\u001b[0m \u001b[0mself\u001b[0m\u001b[1;33m[\u001b[0m\u001b[0mname\u001b[0m\u001b[1;33m]\u001b[0m\u001b[1;33m\u001b[0m\u001b[1;33m\u001b[0m\u001b[0m\n\u001b[1;32m-> 5139\u001b[1;33m             \u001b[1;32mreturn\u001b[0m \u001b[0mobject\u001b[0m\u001b[1;33m.\u001b[0m\u001b[0m__getattribute__\u001b[0m\u001b[1;33m(\u001b[0m\u001b[0mself\u001b[0m\u001b[1;33m,\u001b[0m \u001b[0mname\u001b[0m\u001b[1;33m)\u001b[0m\u001b[1;33m\u001b[0m\u001b[1;33m\u001b[0m\u001b[0m\n\u001b[0m\u001b[0;32m   5140\u001b[0m \u001b[1;33m\u001b[0m\u001b[0m\n\u001b[0;32m   5141\u001b[0m     \u001b[1;32mdef\u001b[0m \u001b[0m__setattr__\u001b[0m\u001b[1;33m(\u001b[0m\u001b[0mself\u001b[0m\u001b[1;33m,\u001b[0m \u001b[0mname\u001b[0m\u001b[1;33m:\u001b[0m \u001b[0mstr\u001b[0m\u001b[1;33m,\u001b[0m \u001b[0mvalue\u001b[0m\u001b[1;33m)\u001b[0m \u001b[1;33m->\u001b[0m \u001b[1;32mNone\u001b[0m\u001b[1;33m:\u001b[0m\u001b[1;33m\u001b[0m\u001b[1;33m\u001b[0m\u001b[0m\n",
      "\u001b[1;31mAttributeError\u001b[0m: 'DataFrame' object has no attribute 'set_columns'"
     ]
    }
   ],
   "source": [
    "df.col"
   ]
  },
  {
   "cell_type": "code",
   "execution_count": 28,
   "metadata": {},
   "outputs": [],
   "source": [
    "timline_view= px.timeline(result_data, x_start='START_TIME', x_end='END_TIME', y='EQP_ID', color='PRODUCT_ID')"
   ]
  },
  {
   "cell_type": "code",
   "execution_count": null,
   "metadata": {},
   "outputs": [],
   "source": []
  },
  {
   "cell_type": "code",
   "execution_count": 29,
   "metadata": {},
   "outputs": [
    {
     "data": {
      "application/vnd.plotly.v1+json": {
       "config": {
        "plotlyServerURL": "https://plot.ly"
       },
       "data": [
        {
         "alignmentgroup": "True",
         "base": [
          "2019-11-08 0:00",
          "2019-11-08 0:00",
          "2019-11-08 0:00",
          "2019-11-08 0:00",
          "2019-11-08 0:53",
          "2019-11-08 0:53",
          "2019-11-08 0:53",
          "2019-11-08 1:46",
          "2019-11-08 1:50",
          "2019-11-08 1:50",
          "2019-11-08 4:03",
          "2019-11-08 4:30",
          "2019-11-08 4:30",
          "2019-11-08 4:30",
          "2019-11-08 4:33",
          "2019-11-08 5:00",
          "2019-11-08 5:26",
          "2019-11-08 7:10",
          "2019-11-08 7:10",
          "2019-11-08 7:40",
          "2019-11-08 7:40",
          "2019-11-08 9:50",
          "2019-11-08 9:50",
          "2019-11-08 10:20",
          "2019-11-08 10:20",
          "2019-11-08 10:20",
          "2019-11-08 12:30",
          "2019-11-08 13:00",
          "2019-11-08 18:20",
          "2019-11-08 18:50",
          "2019-11-08 21:30",
          "2019-11-08 21:30",
          "2019-11-09 0:00",
          "2019-11-09 0:00",
          "2019-11-09 0:00",
          "2019-11-09 0:10",
          "2019-11-09 0:30",
          "2019-11-09 0:30",
          "2019-11-09 0:40",
          "2019-11-09 0:53",
          "2019-11-09 3:20",
          "2019-11-09 3:50",
          "2019-11-09 4:03",
          "2019-11-09 4:33",
          "2019-11-09 5:26",
          "2019-11-09 6:30",
          "2019-11-09 6:30",
          "2019-11-09 7:00",
          "2019-11-09 8:40",
          "2019-11-09 9:10",
          "2019-11-09 9:10",
          "2019-11-09 9:10",
          "2019-11-09 9:40",
          "2019-11-09 11:50",
          "2019-11-09 11:50",
          "2019-11-09 17:40",
          "2019-11-09 18:10",
          "2019-11-09 20:50",
          "2019-11-09 20:50",
          "2019-11-09 21:20",
          "2019-11-09 23:30",
          "2019-11-10 0:00",
          "2019-11-10 0:00",
          "2019-11-10 0:00",
          "2019-11-10 0:00",
          "2019-11-10 0:30",
          "2019-11-10 0:30",
          "2019-11-10 0:53",
          "2019-11-10 4:03",
          "2019-11-10 4:33",
          "2019-11-10 5:26",
          "2019-11-10 7:30",
          "2019-11-10 8:00",
          "2019-11-10 8:00",
          "2019-11-10 8:30",
          "2019-11-10 10:40",
          "2019-11-10 10:40",
          "2019-11-10 11:10",
          "2019-11-10 12:26",
          "2019-11-10 13:20",
          "2019-11-10 13:50",
          "2019-11-10 13:50",
          "2019-11-10 14:20",
          "2019-11-10 19:40",
          "2019-11-10 20:10",
          "2019-11-10 22:50",
          "2019-11-10 22:50",
          "2019-11-11 0:00",
          "2019-11-11 0:00",
          "2019-11-11 0:00",
          "2019-11-11 0:30",
          "2019-11-11 0:30",
          "2019-11-11 0:53",
          "2019-11-11 1:30",
          "2019-11-11 2:00",
          "2019-11-11 4:03",
          "2019-11-11 4:33",
          "2019-11-11 5:26",
          "2019-11-11 9:00",
          "2019-11-11 9:30",
          "2019-11-11 10:00",
          "2019-11-11 10:30",
          "2019-11-11 12:10",
          "2019-11-11 12:10",
          "2019-11-11 13:10",
          "2019-11-11 13:56",
          "2019-11-11 14:50",
          "2019-11-11 15:20",
          "2019-11-11 15:50",
          "2019-11-11 16:20",
          "2019-11-11 21:40",
          "2019-11-11 22:10",
          "2019-11-12 0:00",
          "2019-11-12 0:00",
          "2019-11-12 0:00",
          "2019-11-12 0:30",
          "2019-11-12 0:30",
          "2019-11-12 0:50",
          "2019-11-12 0:50",
          "2019-11-12 0:53",
          "2019-11-12 1:20",
          "2019-11-12 3:30",
          "2019-11-12 4:03",
          "2019-11-12 4:33",
          "2019-11-12 5:26",
          "2019-11-12 10:30",
          "2019-11-12 11:00",
          "2019-11-12 12:00",
          "2019-11-12 12:30",
          "2019-11-12 13:40",
          "2019-11-12 13:40",
          "2019-11-12 15:10",
          "2019-11-12 15:26",
          "2019-11-12 16:20",
          "2019-11-12 16:50",
          "2019-11-12 17:50",
          "2019-11-12 18:20",
          "2019-11-12 23:40",
          "2019-11-13 0:00",
          "2019-11-13 0:00",
          "2019-11-13 0:00",
          "2019-11-13 0:10",
          "2019-11-13 0:30",
          "2019-11-13 0:30",
          "2019-11-13 0:53",
          "2019-11-13 2:50",
          "2019-11-13 2:50",
          "2019-11-13 3:20",
          "2019-11-13 4:03",
          "2019-11-13 4:33",
          "2019-11-13 5:26",
          "2019-11-13 5:30",
          "2019-11-13 12:00",
          "2019-11-13 12:30",
          "2019-11-13 14:00",
          "2019-11-13 14:30",
          "2019-11-13 15:10",
          "2019-11-13 15:10",
          "2019-11-13 15:40",
          "2019-11-13 17:10",
          "2019-11-13 17:26",
          "2019-11-13 17:50",
          "2019-11-13 18:20",
          "2019-11-13 19:50",
          "2019-11-13 20:20",
          "2019-11-14 1:40",
          "2019-11-14 2:10",
          "2019-11-14 2:16",
          "2019-11-14 2:46",
          "2019-11-14 3:40",
          "2019-11-14 4:50",
          "2019-11-14 4:50",
          "2019-11-14 5:20",
          "2019-11-14 7:30",
          "2019-11-14 21:50",
          "2019-11-14 22:20"
         ],
         "hovertemplate": "PRODUCT_ID=Tumbler_KANU<br>START_TIME=%{base}<br>END_TIME=%{x}<br>EQP_ID=%{y}<extra></extra>",
         "legendgroup": "Tumbler_KANU",
         "marker": {
          "color": "#636efa"
         },
         "name": "Tumbler_KANU",
         "offsetgroup": "Tumbler_KANU",
         "orientation": "h",
         "showlegend": true,
         "textposition": "auto",
         "type": "bar",
         "x": [
          6600000,
          3180000,
          3180000,
          3180000,
          3180000,
          3180000,
          3180000,
          3240000,
          9600000,
          6360000,
          1800000,
          1800000,
          9600000,
          6360000,
          3180000,
          9600000,
          3240000,
          9600000,
          6360000,
          9600000,
          6360000,
          9600000,
          1800000,
          6360000,
          9600000,
          6360000,
          6360000,
          6360000,
          1800000,
          9600000,
          9600000,
          6360000,
          1800000,
          1800000,
          3180000,
          1800000,
          3180000,
          3180000,
          6360000,
          3180000,
          1800000,
          9600000,
          1800000,
          3180000,
          3240000,
          9600000,
          1800000,
          6360000,
          1800000,
          9600000,
          9600000,
          1800000,
          6360000,
          6360000,
          6360000,
          1800000,
          9600000,
          9600000,
          1800000,
          6360000,
          1800000,
          6360000,
          1800000,
          1800000,
          3180000,
          3180000,
          3180000,
          3180000,
          1800000,
          3180000,
          3240000,
          1800000,
          9600000,
          1800000,
          9600000,
          9600000,
          6360000,
          9600000,
          6420000,
          1800000,
          6360000,
          1800000,
          6360000,
          1800000,
          9600000,
          9600000,
          6360000,
          1800000,
          1800000,
          3180000,
          3180000,
          3180000,
          3180000,
          1800000,
          6360000,
          1800000,
          3180000,
          3240000,
          1800000,
          9600000,
          1800000,
          9600000,
          9600000,
          6360000,
          9600000,
          6420000,
          1800000,
          6360000,
          1800000,
          6360000,
          1800000,
          9600000,
          1800000,
          1800000,
          3180000,
          3180000,
          3180000,
          9600000,
          1800000,
          3180000,
          6360000,
          6360000,
          1800000,
          3180000,
          3240000,
          1800000,
          9600000,
          1800000,
          9600000,
          9600000,
          6360000,
          9600000,
          6420000,
          1800000,
          6360000,
          1800000,
          6360000,
          1800000,
          1800000,
          1800000,
          3180000,
          9600000,
          3180000,
          3180000,
          3180000,
          9600000,
          1800000,
          6360000,
          1800000,
          3180000,
          3240000,
          6360000,
          1800000,
          9600000,
          1800000,
          9600000,
          9600000,
          1800000,
          6360000,
          9600000,
          6420000,
          1800000,
          6360000,
          1800000,
          6360000,
          1800000,
          9600000,
          1800000,
          3240000,
          3180000,
          9600000,
          1800000,
          6360000,
          6360000,
          1800000,
          9600000
         ],
         "xaxis": "x",
         "y": [
          "EQP21",
          "EQP11",
          "EQP12",
          "EQP13",
          "EQP11",
          "EQP12",
          "EQP13",
          "EQP11",
          "EQP21",
          "EQP31",
          "EQP13",
          "EQP22",
          "EQP21",
          "EQP32",
          "EQP13",
          "EQP22",
          "EQP13",
          "EQP21",
          "EQP32",
          "EQP22",
          "EQP33",
          "EQP21",
          "EQP31",
          "EQP31",
          "EQP22",
          "EQP32",
          "EQP31",
          "EQP32",
          "EQP21",
          "EQP21",
          "EQP21",
          "EQP33",
          "EQP11",
          "EQP12",
          "EQP13",
          "EQP31",
          "EQP11",
          "EQP12",
          "EQP31",
          "EQP13",
          "EQP22",
          "EQP22",
          "EQP13",
          "EQP13",
          "EQP13",
          "EQP22",
          "EQP32",
          "EQP32",
          "EQP21",
          "EQP21",
          "EQP22",
          "EQP31",
          "EQP31",
          "EQP31",
          "EQP32",
          "EQP22",
          "EQP22",
          "EQP22",
          "EQP33",
          "EQP33",
          "EQP32",
          "EQP32",
          "EQP11",
          "EQP12",
          "EQP13",
          "EQP11",
          "EQP12",
          "EQP13",
          "EQP13",
          "EQP13",
          "EQP13",
          "EQP21",
          "EQP21",
          "EQP22",
          "EQP22",
          "EQP21",
          "EQP33",
          "EQP22",
          "EQP33",
          "EQP31",
          "EQP31",
          "EQP32",
          "EQP32",
          "EQP22",
          "EQP22",
          "EQP22",
          "EQP33",
          "EQP11",
          "EQP12",
          "EQP13",
          "EQP11",
          "EQP12",
          "EQP13",
          "EQP32",
          "EQP32",
          "EQP13",
          "EQP13",
          "EQP13",
          "EQP21",
          "EQP21",
          "EQP22",
          "EQP22",
          "EQP21",
          "EQP33",
          "EQP22",
          "EQP33",
          "EQP31",
          "EQP31",
          "EQP32",
          "EQP32",
          "EQP22",
          "EQP22",
          "EQP11",
          "EQP12",
          "EQP13",
          "EQP11",
          "EQP12",
          "EQP22",
          "EQP31",
          "EQP13",
          "EQP31",
          "EQP31",
          "EQP13",
          "EQP13",
          "EQP13",
          "EQP21",
          "EQP21",
          "EQP22",
          "EQP22",
          "EQP21",
          "EQP33",
          "EQP22",
          "EQP33",
          "EQP31",
          "EQP31",
          "EQP32",
          "EQP32",
          "EQP22",
          "EQP11",
          "EQP12",
          "EQP13",
          "EQP22",
          "EQP11",
          "EQP12",
          "EQP13",
          "EQP22",
          "EQP31",
          "EQP31",
          "EQP13",
          "EQP13",
          "EQP13",
          "EQP31",
          "EQP21",
          "EQP21",
          "EQP22",
          "EQP22",
          "EQP21",
          "EQP33",
          "EQP33",
          "EQP22",
          "EQP33",
          "EQP31",
          "EQP31",
          "EQP32",
          "EQP32",
          "EQP22",
          "EQP22",
          "EQP13",
          "EQP13",
          "EQP13",
          "EQP22",
          "EQP31",
          "EQP31",
          "EQP31",
          "EQP22",
          "EQP22"
         ],
         "yaxis": "y"
        },
        {
         "alignmentgroup": "True",
         "base": [
          "2019-11-08 0:00",
          "2019-11-08 1:46",
          "2019-11-08 1:46",
          "2019-11-08 2:16",
          "2019-11-08 2:16",
          "2019-11-08 4:30",
          "2019-11-08 5:00",
          "2019-11-08 12:30",
          "2019-11-08 13:00",
          "2019-11-08 13:00",
          "2019-11-08 13:30",
          "2019-11-08 18:20",
          "2019-11-08 18:50",
          "2019-11-08 18:50",
          "2019-11-08 19:20",
          "2019-11-09 1:23",
          "2019-11-09 1:23",
          "2019-11-09 1:46",
          "2019-11-09 1:53",
          "2019-11-09 1:53",
          "2019-11-09 2:16",
          "2019-11-09 11:50",
          "2019-11-09 11:50",
          "2019-11-09 12:20",
          "2019-11-09 12:20",
          "2019-11-09 17:40",
          "2019-11-09 17:40",
          "2019-11-09 17:40",
          "2019-11-09 18:10",
          "2019-11-09 18:10",
          "2019-11-09 23:00",
          "2019-11-10 1:23",
          "2019-11-10 1:23",
          "2019-11-10 1:46",
          "2019-11-10 1:53",
          "2019-11-10 1:53",
          "2019-11-10 2:16",
          "2019-11-10 13:20",
          "2019-11-10 13:50",
          "2019-11-10 13:50",
          "2019-11-10 14:20",
          "2019-11-10 19:10",
          "2019-11-10 19:10",
          "2019-11-10 19:40",
          "2019-11-10 19:40",
          "2019-11-10 20:10",
          "2019-11-11 0:30",
          "2019-11-11 1:23",
          "2019-11-11 1:23",
          "2019-11-11 1:46",
          "2019-11-11 1:53",
          "2019-11-11 1:53",
          "2019-11-11 2:16",
          "2019-11-11 14:50",
          "2019-11-11 15:20",
          "2019-11-11 15:50",
          "2019-11-11 16:20",
          "2019-11-11 20:40",
          "2019-11-11 20:40",
          "2019-11-11 21:10",
          "2019-11-11 21:40",
          "2019-11-11 22:10",
          "2019-11-12 1:23",
          "2019-11-12 1:23",
          "2019-11-12 1:46",
          "2019-11-12 1:53",
          "2019-11-12 1:53",
          "2019-11-12 2:00",
          "2019-11-12 2:16",
          "2019-11-12 16:20",
          "2019-11-12 16:50",
          "2019-11-12 17:50",
          "2019-11-12 18:20",
          "2019-11-12 22:10",
          "2019-11-12 22:10",
          "2019-11-12 22:40",
          "2019-11-12 23:40",
          "2019-11-13 0:10",
          "2019-11-13 1:23",
          "2019-11-13 1:23",
          "2019-11-13 1:46",
          "2019-11-13 1:53",
          "2019-11-13 1:53",
          "2019-11-13 2:16",
          "2019-11-13 3:30",
          "2019-11-13 4:00",
          "2019-11-13 17:50",
          "2019-11-13 18:20",
          "2019-11-13 19:50",
          "2019-11-13 20:20",
          "2019-11-13 23:40",
          "2019-11-13 23:40",
          "2019-11-14 0:00",
          "2019-11-14 0:00",
          "2019-11-14 0:00",
          "2019-11-14 0:10",
          "2019-11-14 0:30",
          "2019-11-14 0:30",
          "2019-11-14 0:30",
          "2019-11-14 1:40",
          "2019-11-14 2:10",
          "2019-11-14 5:00",
          "2019-11-14 5:30",
          "2019-11-14 13:30",
          "2019-11-14 14:00",
          "2019-11-14 16:00",
          "2019-11-14 16:30",
          "2019-11-14 19:20",
          "2019-11-14 19:20",
          "2019-11-14 19:50",
          "2019-11-14 21:50",
          "2019-11-14 22:20"
         ],
         "hovertemplate": "PRODUCT_ID=Tumbler_STARBUCKS<br>START_TIME=%{base}<br>END_TIME=%{x}<br>EQP_ID=%{y}<extra></extra>",
         "legendgroup": "Tumbler_STARBUCKS",
         "marker": {
          "color": "#EF553B"
         },
         "name": "Tumbler_STARBUCKS",
         "offsetgroup": "Tumbler_STARBUCKS",
         "orientation": "h",
         "showlegend": true,
         "textposition": "auto",
         "type": "bar",
         "x": [
          16200000,
          1800000,
          1800000,
          6420000,
          6420000,
          1800000,
          12780000,
          1800000,
          19200000,
          1800000,
          19200000,
          1800000,
          12780000,
          1800000,
          12780000,
          1800000,
          1800000,
          1800000,
          6420000,
          6420000,
          6420000,
          1800000,
          1800000,
          19200000,
          19200000,
          19200000,
          1800000,
          1800000,
          12780000,
          12780000,
          12780000,
          1800000,
          1800000,
          1800000,
          6420000,
          6420000,
          6420000,
          1800000,
          19200000,
          1800000,
          19200000,
          19200000,
          1800000,
          12780000,
          1800000,
          12780000,
          12780000,
          1800000,
          1800000,
          1800000,
          6420000,
          6420000,
          6420000,
          1800000,
          19200000,
          1800000,
          19200000,
          19200000,
          1800000,
          12780000,
          1800000,
          12780000,
          1800000,
          1800000,
          1800000,
          6420000,
          6420000,
          12780000,
          6420000,
          1800000,
          19200000,
          1800000,
          19200000,
          19200000,
          1800000,
          12780000,
          1800000,
          12780000,
          1800000,
          1800000,
          1800000,
          6420000,
          6420000,
          6420000,
          1800000,
          12780000,
          1800000,
          19200000,
          1800000,
          19200000,
          19200000,
          1800000,
          1800000,
          1800000,
          1800000,
          12780000,
          6360000,
          6360000,
          6360000,
          1800000,
          12780000,
          1800000,
          12780000,
          1800000,
          19200000,
          1800000,
          19200000,
          19200000,
          1800000,
          12780000,
          1800000,
          12780000
         ],
         "xaxis": "x",
         "y": [
          "EQP22",
          "EQP12",
          "EQP13",
          "EQP12",
          "EQP13",
          "EQP31",
          "EQP31",
          "EQP21",
          "EQP21",
          "EQP22",
          "EQP22",
          "EQP31",
          "EQP31",
          "EQP32",
          "EQP32",
          "EQP11",
          "EQP12",
          "EQP13",
          "EQP11",
          "EQP12",
          "EQP13",
          "EQP21",
          "EQP22",
          "EQP21",
          "EQP22",
          "EQP21",
          "EQP31",
          "EQP32",
          "EQP31",
          "EQP32",
          "EQP31",
          "EQP11",
          "EQP12",
          "EQP13",
          "EQP11",
          "EQP12",
          "EQP13",
          "EQP21",
          "EQP21",
          "EQP22",
          "EQP22",
          "EQP21",
          "EQP31",
          "EQP31",
          "EQP32",
          "EQP32",
          "EQP31",
          "EQP11",
          "EQP12",
          "EQP13",
          "EQP11",
          "EQP12",
          "EQP13",
          "EQP21",
          "EQP21",
          "EQP22",
          "EQP22",
          "EQP21",
          "EQP31",
          "EQP31",
          "EQP32",
          "EQP32",
          "EQP11",
          "EQP12",
          "EQP13",
          "EQP11",
          "EQP12",
          "EQP32",
          "EQP13",
          "EQP21",
          "EQP21",
          "EQP22",
          "EQP22",
          "EQP21",
          "EQP31",
          "EQP31",
          "EQP32",
          "EQP32",
          "EQP11",
          "EQP12",
          "EQP13",
          "EQP11",
          "EQP12",
          "EQP13",
          "EQP33",
          "EQP33",
          "EQP21",
          "EQP21",
          "EQP22",
          "EQP22",
          "EQP21",
          "EQP31",
          "EQP11",
          "EQP12",
          "EQP13",
          "EQP31",
          "EQP11",
          "EQP12",
          "EQP13",
          "EQP32",
          "EQP32",
          "EQP33",
          "EQP33",
          "EQP21",
          "EQP21",
          "EQP22",
          "EQP22",
          "EQP21",
          "EQP31",
          "EQP31",
          "EQP32",
          "EQP32"
         ],
         "yaxis": "y"
        },
        {
         "alignmentgroup": "True",
         "base": [
          "2019-11-08 2:40",
          "2019-11-08 3:10",
          "2019-11-08 4:03",
          "2019-11-08 4:33",
          "2019-11-08 18:50",
          "2019-11-08 19:20",
          "2019-11-09 0:10",
          "2019-11-09 0:40",
          "2019-11-09 3:20",
          "2019-11-09 3:40",
          "2019-11-09 3:40",
          "2019-11-09 3:50",
          "2019-11-09 4:10",
          "2019-11-09 4:10",
          "2019-11-09 8:40",
          "2019-11-09 9:10",
          "2019-11-09 23:00",
          "2019-11-09 23:30",
          "2019-11-09 23:30",
          "2019-11-10 0:00",
          "2019-11-10 3:40",
          "2019-11-10 3:40",
          "2019-11-10 4:10",
          "2019-11-10 4:10",
          "2019-11-10 7:30",
          "2019-11-10 8:00",
          "2019-11-10 8:00",
          "2019-11-10 8:30",
          "2019-11-11 0:30",
          "2019-11-11 1:00",
          "2019-11-11 1:30",
          "2019-11-11 2:00",
          "2019-11-11 3:40",
          "2019-11-11 3:40",
          "2019-11-11 4:10",
          "2019-11-11 4:10",
          "2019-11-11 9:00",
          "2019-11-11 9:30",
          "2019-11-11 10:00",
          "2019-11-11 10:30",
          "2019-11-12 2:00",
          "2019-11-12 2:30",
          "2019-11-12 3:30",
          "2019-11-12 3:40",
          "2019-11-12 3:40",
          "2019-11-12 4:00",
          "2019-11-12 4:10",
          "2019-11-12 4:10",
          "2019-11-12 10:30",
          "2019-11-12 11:00",
          "2019-11-12 12:00",
          "2019-11-12 12:30",
          "2019-11-13 3:30",
          "2019-11-13 3:40",
          "2019-11-13 3:40",
          "2019-11-13 4:00",
          "2019-11-13 4:10",
          "2019-11-13 4:10",
          "2019-11-13 5:30",
          "2019-11-13 6:00",
          "2019-11-13 12:00",
          "2019-11-13 12:30",
          "2019-11-13 14:00",
          "2019-11-13 14:30",
          "2019-11-14 2:16",
          "2019-11-14 2:16",
          "2019-11-14 2:46",
          "2019-11-14 2:46",
          "2019-11-14 5:00",
          "2019-11-14 5:30",
          "2019-11-14 7:30",
          "2019-11-14 8:00",
          "2019-11-14 13:30",
          "2019-11-14 14:00",
          "2019-11-14 16:00",
          "2019-11-14 16:30"
         ],
         "hovertemplate": "PRODUCT_ID=Tumbler_TOMNTOMS<br>START_TIME=%{base}<br>END_TIME=%{x}<br>EQP_ID=%{y}<extra></extra>",
         "legendgroup": "Tumbler_TOMNTOMS",
         "marker": {
          "color": "#00cc96"
         },
         "name": "Tumbler_TOMNTOMS",
         "offsetgroup": "Tumbler_TOMNTOMS",
         "orientation": "h",
         "showlegend": true,
         "textposition": "auto",
         "type": "bar",
         "x": [
          1800000,
          9600000,
          1800000,
          9600000,
          1800000,
          28800000,
          1800000,
          28800000,
          1800000,
          1800000,
          1800000,
          19200000,
          9600000,
          9600000,
          1800000,
          19200000,
          1800000,
          28800000,
          1800000,
          28800000,
          1800000,
          1800000,
          9600000,
          9600000,
          1800000,
          19200000,
          1800000,
          19200000,
          1800000,
          28800000,
          1800000,
          28800000,
          1800000,
          1800000,
          9600000,
          9600000,
          1800000,
          19200000,
          1800000,
          19200000,
          1800000,
          28800000,
          1800000,
          1800000,
          1800000,
          28800000,
          9600000,
          9600000,
          1800000,
          19200000,
          1800000,
          19200000,
          1800000,
          1800000,
          1800000,
          28800000,
          9600000,
          9600000,
          1800000,
          28800000,
          1800000,
          19200000,
          1800000,
          19200000,
          1800000,
          1800000,
          9600000,
          9600000,
          1800000,
          28800000,
          1800000,
          28800000,
          1800000,
          19200000,
          1800000,
          19200000
         ],
         "xaxis": "x",
         "y": [
          "EQP11",
          "EQP11",
          "EQP12",
          "EQP12",
          "EQP22",
          "EQP22",
          "EQP21",
          "EQP21",
          "EQP31",
          "EQP11",
          "EQP12",
          "EQP31",
          "EQP11",
          "EQP12",
          "EQP33",
          "EQP33",
          "EQP21",
          "EQP21",
          "EQP22",
          "EQP22",
          "EQP11",
          "EQP12",
          "EQP11",
          "EQP12",
          "EQP31",
          "EQP31",
          "EQP32",
          "EQP32",
          "EQP21",
          "EQP21",
          "EQP22",
          "EQP22",
          "EQP11",
          "EQP12",
          "EQP11",
          "EQP12",
          "EQP31",
          "EQP31",
          "EQP32",
          "EQP32",
          "EQP21",
          "EQP21",
          "EQP22",
          "EQP11",
          "EQP12",
          "EQP22",
          "EQP11",
          "EQP12",
          "EQP31",
          "EQP31",
          "EQP32",
          "EQP32",
          "EQP21",
          "EQP11",
          "EQP12",
          "EQP21",
          "EQP11",
          "EQP12",
          "EQP22",
          "EQP22",
          "EQP31",
          "EQP31",
          "EQP32",
          "EQP32",
          "EQP11",
          "EQP12",
          "EQP11",
          "EQP12",
          "EQP21",
          "EQP21",
          "EQP22",
          "EQP22",
          "EQP31",
          "EQP31",
          "EQP32",
          "EQP32"
         ],
         "yaxis": "y"
        }
       ],
       "layout": {
        "barmode": "overlay",
        "legend": {
         "title": {
          "text": "PRODUCT_ID"
         },
         "tracegroupgap": 0
        },
        "margin": {
         "t": 60
        },
        "template": {
         "data": {
          "bar": [
           {
            "error_x": {
             "color": "#2a3f5f"
            },
            "error_y": {
             "color": "#2a3f5f"
            },
            "marker": {
             "line": {
              "color": "#E5ECF6",
              "width": 0.5
             }
            },
            "type": "bar"
           }
          ],
          "barpolar": [
           {
            "marker": {
             "line": {
              "color": "#E5ECF6",
              "width": 0.5
             }
            },
            "type": "barpolar"
           }
          ],
          "carpet": [
           {
            "aaxis": {
             "endlinecolor": "#2a3f5f",
             "gridcolor": "white",
             "linecolor": "white",
             "minorgridcolor": "white",
             "startlinecolor": "#2a3f5f"
            },
            "baxis": {
             "endlinecolor": "#2a3f5f",
             "gridcolor": "white",
             "linecolor": "white",
             "minorgridcolor": "white",
             "startlinecolor": "#2a3f5f"
            },
            "type": "carpet"
           }
          ],
          "choropleth": [
           {
            "colorbar": {
             "outlinewidth": 0,
             "ticks": ""
            },
            "type": "choropleth"
           }
          ],
          "contour": [
           {
            "colorbar": {
             "outlinewidth": 0,
             "ticks": ""
            },
            "colorscale": [
             [
              0,
              "#0d0887"
             ],
             [
              0.1111111111111111,
              "#46039f"
             ],
             [
              0.2222222222222222,
              "#7201a8"
             ],
             [
              0.3333333333333333,
              "#9c179e"
             ],
             [
              0.4444444444444444,
              "#bd3786"
             ],
             [
              0.5555555555555556,
              "#d8576b"
             ],
             [
              0.6666666666666666,
              "#ed7953"
             ],
             [
              0.7777777777777778,
              "#fb9f3a"
             ],
             [
              0.8888888888888888,
              "#fdca26"
             ],
             [
              1,
              "#f0f921"
             ]
            ],
            "type": "contour"
           }
          ],
          "contourcarpet": [
           {
            "colorbar": {
             "outlinewidth": 0,
             "ticks": ""
            },
            "type": "contourcarpet"
           }
          ],
          "heatmap": [
           {
            "colorbar": {
             "outlinewidth": 0,
             "ticks": ""
            },
            "colorscale": [
             [
              0,
              "#0d0887"
             ],
             [
              0.1111111111111111,
              "#46039f"
             ],
             [
              0.2222222222222222,
              "#7201a8"
             ],
             [
              0.3333333333333333,
              "#9c179e"
             ],
             [
              0.4444444444444444,
              "#bd3786"
             ],
             [
              0.5555555555555556,
              "#d8576b"
             ],
             [
              0.6666666666666666,
              "#ed7953"
             ],
             [
              0.7777777777777778,
              "#fb9f3a"
             ],
             [
              0.8888888888888888,
              "#fdca26"
             ],
             [
              1,
              "#f0f921"
             ]
            ],
            "type": "heatmap"
           }
          ],
          "heatmapgl": [
           {
            "colorbar": {
             "outlinewidth": 0,
             "ticks": ""
            },
            "colorscale": [
             [
              0,
              "#0d0887"
             ],
             [
              0.1111111111111111,
              "#46039f"
             ],
             [
              0.2222222222222222,
              "#7201a8"
             ],
             [
              0.3333333333333333,
              "#9c179e"
             ],
             [
              0.4444444444444444,
              "#bd3786"
             ],
             [
              0.5555555555555556,
              "#d8576b"
             ],
             [
              0.6666666666666666,
              "#ed7953"
             ],
             [
              0.7777777777777778,
              "#fb9f3a"
             ],
             [
              0.8888888888888888,
              "#fdca26"
             ],
             [
              1,
              "#f0f921"
             ]
            ],
            "type": "heatmapgl"
           }
          ],
          "histogram": [
           {
            "marker": {
             "colorbar": {
              "outlinewidth": 0,
              "ticks": ""
             }
            },
            "type": "histogram"
           }
          ],
          "histogram2d": [
           {
            "colorbar": {
             "outlinewidth": 0,
             "ticks": ""
            },
            "colorscale": [
             [
              0,
              "#0d0887"
             ],
             [
              0.1111111111111111,
              "#46039f"
             ],
             [
              0.2222222222222222,
              "#7201a8"
             ],
             [
              0.3333333333333333,
              "#9c179e"
             ],
             [
              0.4444444444444444,
              "#bd3786"
             ],
             [
              0.5555555555555556,
              "#d8576b"
             ],
             [
              0.6666666666666666,
              "#ed7953"
             ],
             [
              0.7777777777777778,
              "#fb9f3a"
             ],
             [
              0.8888888888888888,
              "#fdca26"
             ],
             [
              1,
              "#f0f921"
             ]
            ],
            "type": "histogram2d"
           }
          ],
          "histogram2dcontour": [
           {
            "colorbar": {
             "outlinewidth": 0,
             "ticks": ""
            },
            "colorscale": [
             [
              0,
              "#0d0887"
             ],
             [
              0.1111111111111111,
              "#46039f"
             ],
             [
              0.2222222222222222,
              "#7201a8"
             ],
             [
              0.3333333333333333,
              "#9c179e"
             ],
             [
              0.4444444444444444,
              "#bd3786"
             ],
             [
              0.5555555555555556,
              "#d8576b"
             ],
             [
              0.6666666666666666,
              "#ed7953"
             ],
             [
              0.7777777777777778,
              "#fb9f3a"
             ],
             [
              0.8888888888888888,
              "#fdca26"
             ],
             [
              1,
              "#f0f921"
             ]
            ],
            "type": "histogram2dcontour"
           }
          ],
          "mesh3d": [
           {
            "colorbar": {
             "outlinewidth": 0,
             "ticks": ""
            },
            "type": "mesh3d"
           }
          ],
          "parcoords": [
           {
            "line": {
             "colorbar": {
              "outlinewidth": 0,
              "ticks": ""
             }
            },
            "type": "parcoords"
           }
          ],
          "pie": [
           {
            "automargin": true,
            "type": "pie"
           }
          ],
          "scatter": [
           {
            "marker": {
             "colorbar": {
              "outlinewidth": 0,
              "ticks": ""
             }
            },
            "type": "scatter"
           }
          ],
          "scatter3d": [
           {
            "line": {
             "colorbar": {
              "outlinewidth": 0,
              "ticks": ""
             }
            },
            "marker": {
             "colorbar": {
              "outlinewidth": 0,
              "ticks": ""
             }
            },
            "type": "scatter3d"
           }
          ],
          "scattercarpet": [
           {
            "marker": {
             "colorbar": {
              "outlinewidth": 0,
              "ticks": ""
             }
            },
            "type": "scattercarpet"
           }
          ],
          "scattergeo": [
           {
            "marker": {
             "colorbar": {
              "outlinewidth": 0,
              "ticks": ""
             }
            },
            "type": "scattergeo"
           }
          ],
          "scattergl": [
           {
            "marker": {
             "colorbar": {
              "outlinewidth": 0,
              "ticks": ""
             }
            },
            "type": "scattergl"
           }
          ],
          "scattermapbox": [
           {
            "marker": {
             "colorbar": {
              "outlinewidth": 0,
              "ticks": ""
             }
            },
            "type": "scattermapbox"
           }
          ],
          "scatterpolar": [
           {
            "marker": {
             "colorbar": {
              "outlinewidth": 0,
              "ticks": ""
             }
            },
            "type": "scatterpolar"
           }
          ],
          "scatterpolargl": [
           {
            "marker": {
             "colorbar": {
              "outlinewidth": 0,
              "ticks": ""
             }
            },
            "type": "scatterpolargl"
           }
          ],
          "scatterternary": [
           {
            "marker": {
             "colorbar": {
              "outlinewidth": 0,
              "ticks": ""
             }
            },
            "type": "scatterternary"
           }
          ],
          "surface": [
           {
            "colorbar": {
             "outlinewidth": 0,
             "ticks": ""
            },
            "colorscale": [
             [
              0,
              "#0d0887"
             ],
             [
              0.1111111111111111,
              "#46039f"
             ],
             [
              0.2222222222222222,
              "#7201a8"
             ],
             [
              0.3333333333333333,
              "#9c179e"
             ],
             [
              0.4444444444444444,
              "#bd3786"
             ],
             [
              0.5555555555555556,
              "#d8576b"
             ],
             [
              0.6666666666666666,
              "#ed7953"
             ],
             [
              0.7777777777777778,
              "#fb9f3a"
             ],
             [
              0.8888888888888888,
              "#fdca26"
             ],
             [
              1,
              "#f0f921"
             ]
            ],
            "type": "surface"
           }
          ],
          "table": [
           {
            "cells": {
             "fill": {
              "color": "#EBF0F8"
             },
             "line": {
              "color": "white"
             }
            },
            "header": {
             "fill": {
              "color": "#C8D4E3"
             },
             "line": {
              "color": "white"
             }
            },
            "type": "table"
           }
          ]
         },
         "layout": {
          "annotationdefaults": {
           "arrowcolor": "#2a3f5f",
           "arrowhead": 0,
           "arrowwidth": 1
          },
          "coloraxis": {
           "colorbar": {
            "outlinewidth": 0,
            "ticks": ""
           }
          },
          "colorscale": {
           "diverging": [
            [
             0,
             "#8e0152"
            ],
            [
             0.1,
             "#c51b7d"
            ],
            [
             0.2,
             "#de77ae"
            ],
            [
             0.3,
             "#f1b6da"
            ],
            [
             0.4,
             "#fde0ef"
            ],
            [
             0.5,
             "#f7f7f7"
            ],
            [
             0.6,
             "#e6f5d0"
            ],
            [
             0.7,
             "#b8e186"
            ],
            [
             0.8,
             "#7fbc41"
            ],
            [
             0.9,
             "#4d9221"
            ],
            [
             1,
             "#276419"
            ]
           ],
           "sequential": [
            [
             0,
             "#0d0887"
            ],
            [
             0.1111111111111111,
             "#46039f"
            ],
            [
             0.2222222222222222,
             "#7201a8"
            ],
            [
             0.3333333333333333,
             "#9c179e"
            ],
            [
             0.4444444444444444,
             "#bd3786"
            ],
            [
             0.5555555555555556,
             "#d8576b"
            ],
            [
             0.6666666666666666,
             "#ed7953"
            ],
            [
             0.7777777777777778,
             "#fb9f3a"
            ],
            [
             0.8888888888888888,
             "#fdca26"
            ],
            [
             1,
             "#f0f921"
            ]
           ],
           "sequentialminus": [
            [
             0,
             "#0d0887"
            ],
            [
             0.1111111111111111,
             "#46039f"
            ],
            [
             0.2222222222222222,
             "#7201a8"
            ],
            [
             0.3333333333333333,
             "#9c179e"
            ],
            [
             0.4444444444444444,
             "#bd3786"
            ],
            [
             0.5555555555555556,
             "#d8576b"
            ],
            [
             0.6666666666666666,
             "#ed7953"
            ],
            [
             0.7777777777777778,
             "#fb9f3a"
            ],
            [
             0.8888888888888888,
             "#fdca26"
            ],
            [
             1,
             "#f0f921"
            ]
           ]
          },
          "colorway": [
           "#636efa",
           "#EF553B",
           "#00cc96",
           "#ab63fa",
           "#FFA15A",
           "#19d3f3",
           "#FF6692",
           "#B6E880",
           "#FF97FF",
           "#FECB52"
          ],
          "font": {
           "color": "#2a3f5f"
          },
          "geo": {
           "bgcolor": "white",
           "lakecolor": "white",
           "landcolor": "#E5ECF6",
           "showlakes": true,
           "showland": true,
           "subunitcolor": "white"
          },
          "hoverlabel": {
           "align": "left"
          },
          "hovermode": "closest",
          "mapbox": {
           "style": "light"
          },
          "paper_bgcolor": "white",
          "plot_bgcolor": "#E5ECF6",
          "polar": {
           "angularaxis": {
            "gridcolor": "white",
            "linecolor": "white",
            "ticks": ""
           },
           "bgcolor": "#E5ECF6",
           "radialaxis": {
            "gridcolor": "white",
            "linecolor": "white",
            "ticks": ""
           }
          },
          "scene": {
           "xaxis": {
            "backgroundcolor": "#E5ECF6",
            "gridcolor": "white",
            "gridwidth": 2,
            "linecolor": "white",
            "showbackground": true,
            "ticks": "",
            "zerolinecolor": "white"
           },
           "yaxis": {
            "backgroundcolor": "#E5ECF6",
            "gridcolor": "white",
            "gridwidth": 2,
            "linecolor": "white",
            "showbackground": true,
            "ticks": "",
            "zerolinecolor": "white"
           },
           "zaxis": {
            "backgroundcolor": "#E5ECF6",
            "gridcolor": "white",
            "gridwidth": 2,
            "linecolor": "white",
            "showbackground": true,
            "ticks": "",
            "zerolinecolor": "white"
           }
          },
          "shapedefaults": {
           "line": {
            "color": "#2a3f5f"
           }
          },
          "ternary": {
           "aaxis": {
            "gridcolor": "white",
            "linecolor": "white",
            "ticks": ""
           },
           "baxis": {
            "gridcolor": "white",
            "linecolor": "white",
            "ticks": ""
           },
           "bgcolor": "#E5ECF6",
           "caxis": {
            "gridcolor": "white",
            "linecolor": "white",
            "ticks": ""
           }
          },
          "title": {
           "x": 0.05
          },
          "xaxis": {
           "automargin": true,
           "gridcolor": "white",
           "linecolor": "white",
           "ticks": "",
           "title": {
            "standoff": 15
           },
           "zerolinecolor": "white",
           "zerolinewidth": 2
          },
          "yaxis": {
           "automargin": true,
           "gridcolor": "white",
           "linecolor": "white",
           "ticks": "",
           "title": {
            "standoff": 15
           },
           "zerolinecolor": "white",
           "zerolinewidth": 2
          }
         }
        },
        "xaxis": {
         "anchor": "y",
         "domain": [
          0,
          1
         ],
         "type": "date"
        },
        "yaxis": {
         "anchor": "x",
         "domain": [
          0,
          1
         ],
         "title": {
          "text": "EQP_ID"
         }
        }
       }
      },
      "text/html": [
       "<div>                            <div id=\"65beb9ef-ad0f-429e-969a-221c3e63db82\" class=\"plotly-graph-div\" style=\"height:525px; width:100%;\"></div>            <script type=\"text/javascript\">                require([\"plotly\"], function(Plotly) {                    window.PLOTLYENV=window.PLOTLYENV || {};                                    if (document.getElementById(\"65beb9ef-ad0f-429e-969a-221c3e63db82\")) {                    Plotly.newPlot(                        \"65beb9ef-ad0f-429e-969a-221c3e63db82\",                        [{\"alignmentgroup\": \"True\", \"base\": [\"2019-11-08 0:00\", \"2019-11-08 0:00\", \"2019-11-08 0:00\", \"2019-11-08 0:00\", \"2019-11-08 0:53\", \"2019-11-08 0:53\", \"2019-11-08 0:53\", \"2019-11-08 1:46\", \"2019-11-08 1:50\", \"2019-11-08 1:50\", \"2019-11-08 4:03\", \"2019-11-08 4:30\", \"2019-11-08 4:30\", \"2019-11-08 4:30\", \"2019-11-08 4:33\", \"2019-11-08 5:00\", \"2019-11-08 5:26\", \"2019-11-08 7:10\", \"2019-11-08 7:10\", \"2019-11-08 7:40\", \"2019-11-08 7:40\", \"2019-11-08 9:50\", \"2019-11-08 9:50\", \"2019-11-08 10:20\", \"2019-11-08 10:20\", \"2019-11-08 10:20\", \"2019-11-08 12:30\", \"2019-11-08 13:00\", \"2019-11-08 18:20\", \"2019-11-08 18:50\", \"2019-11-08 21:30\", \"2019-11-08 21:30\", \"2019-11-09 0:00\", \"2019-11-09 0:00\", \"2019-11-09 0:00\", \"2019-11-09 0:10\", \"2019-11-09 0:30\", \"2019-11-09 0:30\", \"2019-11-09 0:40\", \"2019-11-09 0:53\", \"2019-11-09 3:20\", \"2019-11-09 3:50\", \"2019-11-09 4:03\", \"2019-11-09 4:33\", \"2019-11-09 5:26\", \"2019-11-09 6:30\", \"2019-11-09 6:30\", \"2019-11-09 7:00\", \"2019-11-09 8:40\", \"2019-11-09 9:10\", \"2019-11-09 9:10\", \"2019-11-09 9:10\", \"2019-11-09 9:40\", \"2019-11-09 11:50\", \"2019-11-09 11:50\", \"2019-11-09 17:40\", \"2019-11-09 18:10\", \"2019-11-09 20:50\", \"2019-11-09 20:50\", \"2019-11-09 21:20\", \"2019-11-09 23:30\", \"2019-11-10 0:00\", \"2019-11-10 0:00\", \"2019-11-10 0:00\", \"2019-11-10 0:00\", \"2019-11-10 0:30\", \"2019-11-10 0:30\", \"2019-11-10 0:53\", \"2019-11-10 4:03\", \"2019-11-10 4:33\", \"2019-11-10 5:26\", \"2019-11-10 7:30\", \"2019-11-10 8:00\", \"2019-11-10 8:00\", \"2019-11-10 8:30\", \"2019-11-10 10:40\", \"2019-11-10 10:40\", \"2019-11-10 11:10\", \"2019-11-10 12:26\", \"2019-11-10 13:20\", \"2019-11-10 13:50\", \"2019-11-10 13:50\", \"2019-11-10 14:20\", \"2019-11-10 19:40\", \"2019-11-10 20:10\", \"2019-11-10 22:50\", \"2019-11-10 22:50\", \"2019-11-11 0:00\", \"2019-11-11 0:00\", \"2019-11-11 0:00\", \"2019-11-11 0:30\", \"2019-11-11 0:30\", \"2019-11-11 0:53\", \"2019-11-11 1:30\", \"2019-11-11 2:00\", \"2019-11-11 4:03\", \"2019-11-11 4:33\", \"2019-11-11 5:26\", \"2019-11-11 9:00\", \"2019-11-11 9:30\", \"2019-11-11 10:00\", \"2019-11-11 10:30\", \"2019-11-11 12:10\", \"2019-11-11 12:10\", \"2019-11-11 13:10\", \"2019-11-11 13:56\", \"2019-11-11 14:50\", \"2019-11-11 15:20\", \"2019-11-11 15:50\", \"2019-11-11 16:20\", \"2019-11-11 21:40\", \"2019-11-11 22:10\", \"2019-11-12 0:00\", \"2019-11-12 0:00\", \"2019-11-12 0:00\", \"2019-11-12 0:30\", \"2019-11-12 0:30\", \"2019-11-12 0:50\", \"2019-11-12 0:50\", \"2019-11-12 0:53\", \"2019-11-12 1:20\", \"2019-11-12 3:30\", \"2019-11-12 4:03\", \"2019-11-12 4:33\", \"2019-11-12 5:26\", \"2019-11-12 10:30\", \"2019-11-12 11:00\", \"2019-11-12 12:00\", \"2019-11-12 12:30\", \"2019-11-12 13:40\", \"2019-11-12 13:40\", \"2019-11-12 15:10\", \"2019-11-12 15:26\", \"2019-11-12 16:20\", \"2019-11-12 16:50\", \"2019-11-12 17:50\", \"2019-11-12 18:20\", \"2019-11-12 23:40\", \"2019-11-13 0:00\", \"2019-11-13 0:00\", \"2019-11-13 0:00\", \"2019-11-13 0:10\", \"2019-11-13 0:30\", \"2019-11-13 0:30\", \"2019-11-13 0:53\", \"2019-11-13 2:50\", \"2019-11-13 2:50\", \"2019-11-13 3:20\", \"2019-11-13 4:03\", \"2019-11-13 4:33\", \"2019-11-13 5:26\", \"2019-11-13 5:30\", \"2019-11-13 12:00\", \"2019-11-13 12:30\", \"2019-11-13 14:00\", \"2019-11-13 14:30\", \"2019-11-13 15:10\", \"2019-11-13 15:10\", \"2019-11-13 15:40\", \"2019-11-13 17:10\", \"2019-11-13 17:26\", \"2019-11-13 17:50\", \"2019-11-13 18:20\", \"2019-11-13 19:50\", \"2019-11-13 20:20\", \"2019-11-14 1:40\", \"2019-11-14 2:10\", \"2019-11-14 2:16\", \"2019-11-14 2:46\", \"2019-11-14 3:40\", \"2019-11-14 4:50\", \"2019-11-14 4:50\", \"2019-11-14 5:20\", \"2019-11-14 7:30\", \"2019-11-14 21:50\", \"2019-11-14 22:20\"], \"hovertemplate\": \"PRODUCT_ID=Tumbler_KANU<br>START_TIME=%{base}<br>END_TIME=%{x}<br>EQP_ID=%{y}<extra></extra>\", \"legendgroup\": \"Tumbler_KANU\", \"marker\": {\"color\": \"#636efa\"}, \"name\": \"Tumbler_KANU\", \"offsetgroup\": \"Tumbler_KANU\", \"orientation\": \"h\", \"showlegend\": true, \"textposition\": \"auto\", \"type\": \"bar\", \"x\": [6600000.0, 3180000.0, 3180000.0, 3180000.0, 3180000.0, 3180000.0, 3180000.0, 3240000.0, 9600000.0, 6360000.0, 1800000.0, 1800000.0, 9600000.0, 6360000.0, 3180000.0, 9600000.0, 3240000.0, 9600000.0, 6360000.0, 9600000.0, 6360000.0, 9600000.0, 1800000.0, 6360000.0, 9600000.0, 6360000.0, 6360000.0, 6360000.0, 1800000.0, 9600000.0, 9600000.0, 6360000.0, 1800000.0, 1800000.0, 3180000.0, 1800000.0, 3180000.0, 3180000.0, 6360000.0, 3180000.0, 1800000.0, 9600000.0, 1800000.0, 3180000.0, 3240000.0, 9600000.0, 1800000.0, 6360000.0, 1800000.0, 9600000.0, 9600000.0, 1800000.0, 6360000.0, 6360000.0, 6360000.0, 1800000.0, 9600000.0, 9600000.0, 1800000.0, 6360000.0, 1800000.0, 6360000.0, 1800000.0, 1800000.0, 3180000.0, 3180000.0, 3180000.0, 3180000.0, 1800000.0, 3180000.0, 3240000.0, 1800000.0, 9600000.0, 1800000.0, 9600000.0, 9600000.0, 6360000.0, 9600000.0, 6420000.0, 1800000.0, 6360000.0, 1800000.0, 6360000.0, 1800000.0, 9600000.0, 9600000.0, 6360000.0, 1800000.0, 1800000.0, 3180000.0, 3180000.0, 3180000.0, 3180000.0, 1800000.0, 6360000.0, 1800000.0, 3180000.0, 3240000.0, 1800000.0, 9600000.0, 1800000.0, 9600000.0, 9600000.0, 6360000.0, 9600000.0, 6420000.0, 1800000.0, 6360000.0, 1800000.0, 6360000.0, 1800000.0, 9600000.0, 1800000.0, 1800000.0, 3180000.0, 3180000.0, 3180000.0, 9600000.0, 1800000.0, 3180000.0, 6360000.0, 6360000.0, 1800000.0, 3180000.0, 3240000.0, 1800000.0, 9600000.0, 1800000.0, 9600000.0, 9600000.0, 6360000.0, 9600000.0, 6420000.0, 1800000.0, 6360000.0, 1800000.0, 6360000.0, 1800000.0, 1800000.0, 1800000.0, 3180000.0, 9600000.0, 3180000.0, 3180000.0, 3180000.0, 9600000.0, 1800000.0, 6360000.0, 1800000.0, 3180000.0, 3240000.0, 6360000.0, 1800000.0, 9600000.0, 1800000.0, 9600000.0, 9600000.0, 1800000.0, 6360000.0, 9600000.0, 6420000.0, 1800000.0, 6360000.0, 1800000.0, 6360000.0, 1800000.0, 9600000.0, 1800000.0, 3240000.0, 3180000.0, 9600000.0, 1800000.0, 6360000.0, 6360000.0, 1800000.0, 9600000.0], \"xaxis\": \"x\", \"y\": [\"EQP21\", \"EQP11\", \"EQP12\", \"EQP13\", \"EQP11\", \"EQP12\", \"EQP13\", \"EQP11\", \"EQP21\", \"EQP31\", \"EQP13\", \"EQP22\", \"EQP21\", \"EQP32\", \"EQP13\", \"EQP22\", \"EQP13\", \"EQP21\", \"EQP32\", \"EQP22\", \"EQP33\", \"EQP21\", \"EQP31\", \"EQP31\", \"EQP22\", \"EQP32\", \"EQP31\", \"EQP32\", \"EQP21\", \"EQP21\", \"EQP21\", \"EQP33\", \"EQP11\", \"EQP12\", \"EQP13\", \"EQP31\", \"EQP11\", \"EQP12\", \"EQP31\", \"EQP13\", \"EQP22\", \"EQP22\", \"EQP13\", \"EQP13\", \"EQP13\", \"EQP22\", \"EQP32\", \"EQP32\", \"EQP21\", \"EQP21\", \"EQP22\", \"EQP31\", \"EQP31\", \"EQP31\", \"EQP32\", \"EQP22\", \"EQP22\", \"EQP22\", \"EQP33\", \"EQP33\", \"EQP32\", \"EQP32\", \"EQP11\", \"EQP12\", \"EQP13\", \"EQP11\", \"EQP12\", \"EQP13\", \"EQP13\", \"EQP13\", \"EQP13\", \"EQP21\", \"EQP21\", \"EQP22\", \"EQP22\", \"EQP21\", \"EQP33\", \"EQP22\", \"EQP33\", \"EQP31\", \"EQP31\", \"EQP32\", \"EQP32\", \"EQP22\", \"EQP22\", \"EQP22\", \"EQP33\", \"EQP11\", \"EQP12\", \"EQP13\", \"EQP11\", \"EQP12\", \"EQP13\", \"EQP32\", \"EQP32\", \"EQP13\", \"EQP13\", \"EQP13\", \"EQP21\", \"EQP21\", \"EQP22\", \"EQP22\", \"EQP21\", \"EQP33\", \"EQP22\", \"EQP33\", \"EQP31\", \"EQP31\", \"EQP32\", \"EQP32\", \"EQP22\", \"EQP22\", \"EQP11\", \"EQP12\", \"EQP13\", \"EQP11\", \"EQP12\", \"EQP22\", \"EQP31\", \"EQP13\", \"EQP31\", \"EQP31\", \"EQP13\", \"EQP13\", \"EQP13\", \"EQP21\", \"EQP21\", \"EQP22\", \"EQP22\", \"EQP21\", \"EQP33\", \"EQP22\", \"EQP33\", \"EQP31\", \"EQP31\", \"EQP32\", \"EQP32\", \"EQP22\", \"EQP11\", \"EQP12\", \"EQP13\", \"EQP22\", \"EQP11\", \"EQP12\", \"EQP13\", \"EQP22\", \"EQP31\", \"EQP31\", \"EQP13\", \"EQP13\", \"EQP13\", \"EQP31\", \"EQP21\", \"EQP21\", \"EQP22\", \"EQP22\", \"EQP21\", \"EQP33\", \"EQP33\", \"EQP22\", \"EQP33\", \"EQP31\", \"EQP31\", \"EQP32\", \"EQP32\", \"EQP22\", \"EQP22\", \"EQP13\", \"EQP13\", \"EQP13\", \"EQP22\", \"EQP31\", \"EQP31\", \"EQP31\", \"EQP22\", \"EQP22\"], \"yaxis\": \"y\"}, {\"alignmentgroup\": \"True\", \"base\": [\"2019-11-08 0:00\", \"2019-11-08 1:46\", \"2019-11-08 1:46\", \"2019-11-08 2:16\", \"2019-11-08 2:16\", \"2019-11-08 4:30\", \"2019-11-08 5:00\", \"2019-11-08 12:30\", \"2019-11-08 13:00\", \"2019-11-08 13:00\", \"2019-11-08 13:30\", \"2019-11-08 18:20\", \"2019-11-08 18:50\", \"2019-11-08 18:50\", \"2019-11-08 19:20\", \"2019-11-09 1:23\", \"2019-11-09 1:23\", \"2019-11-09 1:46\", \"2019-11-09 1:53\", \"2019-11-09 1:53\", \"2019-11-09 2:16\", \"2019-11-09 11:50\", \"2019-11-09 11:50\", \"2019-11-09 12:20\", \"2019-11-09 12:20\", \"2019-11-09 17:40\", \"2019-11-09 17:40\", \"2019-11-09 17:40\", \"2019-11-09 18:10\", \"2019-11-09 18:10\", \"2019-11-09 23:00\", \"2019-11-10 1:23\", \"2019-11-10 1:23\", \"2019-11-10 1:46\", \"2019-11-10 1:53\", \"2019-11-10 1:53\", \"2019-11-10 2:16\", \"2019-11-10 13:20\", \"2019-11-10 13:50\", \"2019-11-10 13:50\", \"2019-11-10 14:20\", \"2019-11-10 19:10\", \"2019-11-10 19:10\", \"2019-11-10 19:40\", \"2019-11-10 19:40\", \"2019-11-10 20:10\", \"2019-11-11 0:30\", \"2019-11-11 1:23\", \"2019-11-11 1:23\", \"2019-11-11 1:46\", \"2019-11-11 1:53\", \"2019-11-11 1:53\", \"2019-11-11 2:16\", \"2019-11-11 14:50\", \"2019-11-11 15:20\", \"2019-11-11 15:50\", \"2019-11-11 16:20\", \"2019-11-11 20:40\", \"2019-11-11 20:40\", \"2019-11-11 21:10\", \"2019-11-11 21:40\", \"2019-11-11 22:10\", \"2019-11-12 1:23\", \"2019-11-12 1:23\", \"2019-11-12 1:46\", \"2019-11-12 1:53\", \"2019-11-12 1:53\", \"2019-11-12 2:00\", \"2019-11-12 2:16\", \"2019-11-12 16:20\", \"2019-11-12 16:50\", \"2019-11-12 17:50\", \"2019-11-12 18:20\", \"2019-11-12 22:10\", \"2019-11-12 22:10\", \"2019-11-12 22:40\", \"2019-11-12 23:40\", \"2019-11-13 0:10\", \"2019-11-13 1:23\", \"2019-11-13 1:23\", \"2019-11-13 1:46\", \"2019-11-13 1:53\", \"2019-11-13 1:53\", \"2019-11-13 2:16\", \"2019-11-13 3:30\", \"2019-11-13 4:00\", \"2019-11-13 17:50\", \"2019-11-13 18:20\", \"2019-11-13 19:50\", \"2019-11-13 20:20\", \"2019-11-13 23:40\", \"2019-11-13 23:40\", \"2019-11-14 0:00\", \"2019-11-14 0:00\", \"2019-11-14 0:00\", \"2019-11-14 0:10\", \"2019-11-14 0:30\", \"2019-11-14 0:30\", \"2019-11-14 0:30\", \"2019-11-14 1:40\", \"2019-11-14 2:10\", \"2019-11-14 5:00\", \"2019-11-14 5:30\", \"2019-11-14 13:30\", \"2019-11-14 14:00\", \"2019-11-14 16:00\", \"2019-11-14 16:30\", \"2019-11-14 19:20\", \"2019-11-14 19:20\", \"2019-11-14 19:50\", \"2019-11-14 21:50\", \"2019-11-14 22:20\"], \"hovertemplate\": \"PRODUCT_ID=Tumbler_STARBUCKS<br>START_TIME=%{base}<br>END_TIME=%{x}<br>EQP_ID=%{y}<extra></extra>\", \"legendgroup\": \"Tumbler_STARBUCKS\", \"marker\": {\"color\": \"#EF553B\"}, \"name\": \"Tumbler_STARBUCKS\", \"offsetgroup\": \"Tumbler_STARBUCKS\", \"orientation\": \"h\", \"showlegend\": true, \"textposition\": \"auto\", \"type\": \"bar\", \"x\": [16200000.0, 1800000.0, 1800000.0, 6420000.0, 6420000.0, 1800000.0, 12780000.0, 1800000.0, 19200000.0, 1800000.0, 19200000.0, 1800000.0, 12780000.0, 1800000.0, 12780000.0, 1800000.0, 1800000.0, 1800000.0, 6420000.0, 6420000.0, 6420000.0, 1800000.0, 1800000.0, 19200000.0, 19200000.0, 19200000.0, 1800000.0, 1800000.0, 12780000.0, 12780000.0, 12780000.0, 1800000.0, 1800000.0, 1800000.0, 6420000.0, 6420000.0, 6420000.0, 1800000.0, 19200000.0, 1800000.0, 19200000.0, 19200000.0, 1800000.0, 12780000.0, 1800000.0, 12780000.0, 12780000.0, 1800000.0, 1800000.0, 1800000.0, 6420000.0, 6420000.0, 6420000.0, 1800000.0, 19200000.0, 1800000.0, 19200000.0, 19200000.0, 1800000.0, 12780000.0, 1800000.0, 12780000.0, 1800000.0, 1800000.0, 1800000.0, 6420000.0, 6420000.0, 12780000.0, 6420000.0, 1800000.0, 19200000.0, 1800000.0, 19200000.0, 19200000.0, 1800000.0, 12780000.0, 1800000.0, 12780000.0, 1800000.0, 1800000.0, 1800000.0, 6420000.0, 6420000.0, 6420000.0, 1800000.0, 12780000.0, 1800000.0, 19200000.0, 1800000.0, 19200000.0, 19200000.0, 1800000.0, 1800000.0, 1800000.0, 1800000.0, 12780000.0, 6360000.0, 6360000.0, 6360000.0, 1800000.0, 12780000.0, 1800000.0, 12780000.0, 1800000.0, 19200000.0, 1800000.0, 19200000.0, 19200000.0, 1800000.0, 12780000.0, 1800000.0, 12780000.0], \"xaxis\": \"x\", \"y\": [\"EQP22\", \"EQP12\", \"EQP13\", \"EQP12\", \"EQP13\", \"EQP31\", \"EQP31\", \"EQP21\", \"EQP21\", \"EQP22\", \"EQP22\", \"EQP31\", \"EQP31\", \"EQP32\", \"EQP32\", \"EQP11\", \"EQP12\", \"EQP13\", \"EQP11\", \"EQP12\", \"EQP13\", \"EQP21\", \"EQP22\", \"EQP21\", \"EQP22\", \"EQP21\", \"EQP31\", \"EQP32\", \"EQP31\", \"EQP32\", \"EQP31\", \"EQP11\", \"EQP12\", \"EQP13\", \"EQP11\", \"EQP12\", \"EQP13\", \"EQP21\", \"EQP21\", \"EQP22\", \"EQP22\", \"EQP21\", \"EQP31\", \"EQP31\", \"EQP32\", \"EQP32\", \"EQP31\", \"EQP11\", \"EQP12\", \"EQP13\", \"EQP11\", \"EQP12\", \"EQP13\", \"EQP21\", \"EQP21\", \"EQP22\", \"EQP22\", \"EQP21\", \"EQP31\", \"EQP31\", \"EQP32\", \"EQP32\", \"EQP11\", \"EQP12\", \"EQP13\", \"EQP11\", \"EQP12\", \"EQP32\", \"EQP13\", \"EQP21\", \"EQP21\", \"EQP22\", \"EQP22\", \"EQP21\", \"EQP31\", \"EQP31\", \"EQP32\", \"EQP32\", \"EQP11\", \"EQP12\", \"EQP13\", \"EQP11\", \"EQP12\", \"EQP13\", \"EQP33\", \"EQP33\", \"EQP21\", \"EQP21\", \"EQP22\", \"EQP22\", \"EQP21\", \"EQP31\", \"EQP11\", \"EQP12\", \"EQP13\", \"EQP31\", \"EQP11\", \"EQP12\", \"EQP13\", \"EQP32\", \"EQP32\", \"EQP33\", \"EQP33\", \"EQP21\", \"EQP21\", \"EQP22\", \"EQP22\", \"EQP21\", \"EQP31\", \"EQP31\", \"EQP32\", \"EQP32\"], \"yaxis\": \"y\"}, {\"alignmentgroup\": \"True\", \"base\": [\"2019-11-08 2:40\", \"2019-11-08 3:10\", \"2019-11-08 4:03\", \"2019-11-08 4:33\", \"2019-11-08 18:50\", \"2019-11-08 19:20\", \"2019-11-09 0:10\", \"2019-11-09 0:40\", \"2019-11-09 3:20\", \"2019-11-09 3:40\", \"2019-11-09 3:40\", \"2019-11-09 3:50\", \"2019-11-09 4:10\", \"2019-11-09 4:10\", \"2019-11-09 8:40\", \"2019-11-09 9:10\", \"2019-11-09 23:00\", \"2019-11-09 23:30\", \"2019-11-09 23:30\", \"2019-11-10 0:00\", \"2019-11-10 3:40\", \"2019-11-10 3:40\", \"2019-11-10 4:10\", \"2019-11-10 4:10\", \"2019-11-10 7:30\", \"2019-11-10 8:00\", \"2019-11-10 8:00\", \"2019-11-10 8:30\", \"2019-11-11 0:30\", \"2019-11-11 1:00\", \"2019-11-11 1:30\", \"2019-11-11 2:00\", \"2019-11-11 3:40\", \"2019-11-11 3:40\", \"2019-11-11 4:10\", \"2019-11-11 4:10\", \"2019-11-11 9:00\", \"2019-11-11 9:30\", \"2019-11-11 10:00\", \"2019-11-11 10:30\", \"2019-11-12 2:00\", \"2019-11-12 2:30\", \"2019-11-12 3:30\", \"2019-11-12 3:40\", \"2019-11-12 3:40\", \"2019-11-12 4:00\", \"2019-11-12 4:10\", \"2019-11-12 4:10\", \"2019-11-12 10:30\", \"2019-11-12 11:00\", \"2019-11-12 12:00\", \"2019-11-12 12:30\", \"2019-11-13 3:30\", \"2019-11-13 3:40\", \"2019-11-13 3:40\", \"2019-11-13 4:00\", \"2019-11-13 4:10\", \"2019-11-13 4:10\", \"2019-11-13 5:30\", \"2019-11-13 6:00\", \"2019-11-13 12:00\", \"2019-11-13 12:30\", \"2019-11-13 14:00\", \"2019-11-13 14:30\", \"2019-11-14 2:16\", \"2019-11-14 2:16\", \"2019-11-14 2:46\", \"2019-11-14 2:46\", \"2019-11-14 5:00\", \"2019-11-14 5:30\", \"2019-11-14 7:30\", \"2019-11-14 8:00\", \"2019-11-14 13:30\", \"2019-11-14 14:00\", \"2019-11-14 16:00\", \"2019-11-14 16:30\"], \"hovertemplate\": \"PRODUCT_ID=Tumbler_TOMNTOMS<br>START_TIME=%{base}<br>END_TIME=%{x}<br>EQP_ID=%{y}<extra></extra>\", \"legendgroup\": \"Tumbler_TOMNTOMS\", \"marker\": {\"color\": \"#00cc96\"}, \"name\": \"Tumbler_TOMNTOMS\", \"offsetgroup\": \"Tumbler_TOMNTOMS\", \"orientation\": \"h\", \"showlegend\": true, \"textposition\": \"auto\", \"type\": \"bar\", \"x\": [1800000.0, 9600000.0, 1800000.0, 9600000.0, 1800000.0, 28800000.0, 1800000.0, 28800000.0, 1800000.0, 1800000.0, 1800000.0, 19200000.0, 9600000.0, 9600000.0, 1800000.0, 19200000.0, 1800000.0, 28800000.0, 1800000.0, 28800000.0, 1800000.0, 1800000.0, 9600000.0, 9600000.0, 1800000.0, 19200000.0, 1800000.0, 19200000.0, 1800000.0, 28800000.0, 1800000.0, 28800000.0, 1800000.0, 1800000.0, 9600000.0, 9600000.0, 1800000.0, 19200000.0, 1800000.0, 19200000.0, 1800000.0, 28800000.0, 1800000.0, 1800000.0, 1800000.0, 28800000.0, 9600000.0, 9600000.0, 1800000.0, 19200000.0, 1800000.0, 19200000.0, 1800000.0, 1800000.0, 1800000.0, 28800000.0, 9600000.0, 9600000.0, 1800000.0, 28800000.0, 1800000.0, 19200000.0, 1800000.0, 19200000.0, 1800000.0, 1800000.0, 9600000.0, 9600000.0, 1800000.0, 28800000.0, 1800000.0, 28800000.0, 1800000.0, 19200000.0, 1800000.0, 19200000.0], \"xaxis\": \"x\", \"y\": [\"EQP11\", \"EQP11\", \"EQP12\", \"EQP12\", \"EQP22\", \"EQP22\", \"EQP21\", \"EQP21\", \"EQP31\", \"EQP11\", \"EQP12\", \"EQP31\", \"EQP11\", \"EQP12\", \"EQP33\", \"EQP33\", \"EQP21\", \"EQP21\", \"EQP22\", \"EQP22\", \"EQP11\", \"EQP12\", \"EQP11\", \"EQP12\", \"EQP31\", \"EQP31\", \"EQP32\", \"EQP32\", \"EQP21\", \"EQP21\", \"EQP22\", \"EQP22\", \"EQP11\", \"EQP12\", \"EQP11\", \"EQP12\", \"EQP31\", \"EQP31\", \"EQP32\", \"EQP32\", \"EQP21\", \"EQP21\", \"EQP22\", \"EQP11\", \"EQP12\", \"EQP22\", \"EQP11\", \"EQP12\", \"EQP31\", \"EQP31\", \"EQP32\", \"EQP32\", \"EQP21\", \"EQP11\", \"EQP12\", \"EQP21\", \"EQP11\", \"EQP12\", \"EQP22\", \"EQP22\", \"EQP31\", \"EQP31\", \"EQP32\", \"EQP32\", \"EQP11\", \"EQP12\", \"EQP11\", \"EQP12\", \"EQP21\", \"EQP21\", \"EQP22\", \"EQP22\", \"EQP31\", \"EQP31\", \"EQP32\", \"EQP32\"], \"yaxis\": \"y\"}],                        {\"barmode\": \"overlay\", \"legend\": {\"title\": {\"text\": \"PRODUCT_ID\"}, \"tracegroupgap\": 0}, \"margin\": {\"t\": 60}, \"template\": {\"data\": {\"bar\": [{\"error_x\": {\"color\": \"#2a3f5f\"}, \"error_y\": {\"color\": \"#2a3f5f\"}, \"marker\": {\"line\": {\"color\": \"#E5ECF6\", \"width\": 0.5}}, \"type\": \"bar\"}], \"barpolar\": [{\"marker\": {\"line\": {\"color\": \"#E5ECF6\", \"width\": 0.5}}, \"type\": \"barpolar\"}], \"carpet\": [{\"aaxis\": {\"endlinecolor\": \"#2a3f5f\", \"gridcolor\": \"white\", \"linecolor\": \"white\", \"minorgridcolor\": \"white\", \"startlinecolor\": \"#2a3f5f\"}, \"baxis\": {\"endlinecolor\": \"#2a3f5f\", \"gridcolor\": \"white\", \"linecolor\": \"white\", \"minorgridcolor\": \"white\", \"startlinecolor\": \"#2a3f5f\"}, \"type\": \"carpet\"}], \"choropleth\": [{\"colorbar\": {\"outlinewidth\": 0, \"ticks\": \"\"}, \"type\": \"choropleth\"}], \"contour\": [{\"colorbar\": {\"outlinewidth\": 0, \"ticks\": \"\"}, \"colorscale\": [[0.0, \"#0d0887\"], [0.1111111111111111, \"#46039f\"], [0.2222222222222222, \"#7201a8\"], [0.3333333333333333, \"#9c179e\"], [0.4444444444444444, \"#bd3786\"], [0.5555555555555556, \"#d8576b\"], [0.6666666666666666, \"#ed7953\"], [0.7777777777777778, \"#fb9f3a\"], [0.8888888888888888, \"#fdca26\"], [1.0, \"#f0f921\"]], \"type\": \"contour\"}], \"contourcarpet\": [{\"colorbar\": {\"outlinewidth\": 0, \"ticks\": \"\"}, \"type\": \"contourcarpet\"}], \"heatmap\": [{\"colorbar\": {\"outlinewidth\": 0, \"ticks\": \"\"}, \"colorscale\": [[0.0, \"#0d0887\"], [0.1111111111111111, \"#46039f\"], [0.2222222222222222, \"#7201a8\"], [0.3333333333333333, \"#9c179e\"], [0.4444444444444444, \"#bd3786\"], [0.5555555555555556, \"#d8576b\"], [0.6666666666666666, \"#ed7953\"], [0.7777777777777778, \"#fb9f3a\"], [0.8888888888888888, \"#fdca26\"], [1.0, \"#f0f921\"]], \"type\": \"heatmap\"}], \"heatmapgl\": [{\"colorbar\": {\"outlinewidth\": 0, \"ticks\": \"\"}, \"colorscale\": [[0.0, \"#0d0887\"], [0.1111111111111111, \"#46039f\"], [0.2222222222222222, \"#7201a8\"], [0.3333333333333333, \"#9c179e\"], [0.4444444444444444, \"#bd3786\"], [0.5555555555555556, \"#d8576b\"], [0.6666666666666666, \"#ed7953\"], [0.7777777777777778, \"#fb9f3a\"], [0.8888888888888888, \"#fdca26\"], [1.0, \"#f0f921\"]], \"type\": \"heatmapgl\"}], \"histogram\": [{\"marker\": {\"colorbar\": {\"outlinewidth\": 0, \"ticks\": \"\"}}, \"type\": \"histogram\"}], \"histogram2d\": [{\"colorbar\": {\"outlinewidth\": 0, \"ticks\": \"\"}, \"colorscale\": [[0.0, \"#0d0887\"], [0.1111111111111111, \"#46039f\"], [0.2222222222222222, \"#7201a8\"], [0.3333333333333333, \"#9c179e\"], [0.4444444444444444, \"#bd3786\"], [0.5555555555555556, \"#d8576b\"], [0.6666666666666666, \"#ed7953\"], [0.7777777777777778, \"#fb9f3a\"], [0.8888888888888888, \"#fdca26\"], [1.0, \"#f0f921\"]], \"type\": \"histogram2d\"}], \"histogram2dcontour\": [{\"colorbar\": {\"outlinewidth\": 0, \"ticks\": \"\"}, \"colorscale\": [[0.0, \"#0d0887\"], [0.1111111111111111, \"#46039f\"], [0.2222222222222222, \"#7201a8\"], [0.3333333333333333, \"#9c179e\"], [0.4444444444444444, \"#bd3786\"], [0.5555555555555556, \"#d8576b\"], [0.6666666666666666, \"#ed7953\"], [0.7777777777777778, \"#fb9f3a\"], [0.8888888888888888, \"#fdca26\"], [1.0, \"#f0f921\"]], \"type\": \"histogram2dcontour\"}], \"mesh3d\": [{\"colorbar\": {\"outlinewidth\": 0, \"ticks\": \"\"}, \"type\": \"mesh3d\"}], \"parcoords\": [{\"line\": {\"colorbar\": {\"outlinewidth\": 0, \"ticks\": \"\"}}, \"type\": \"parcoords\"}], \"pie\": [{\"automargin\": true, \"type\": \"pie\"}], \"scatter\": [{\"marker\": {\"colorbar\": {\"outlinewidth\": 0, \"ticks\": \"\"}}, \"type\": \"scatter\"}], \"scatter3d\": [{\"line\": {\"colorbar\": {\"outlinewidth\": 0, \"ticks\": \"\"}}, \"marker\": {\"colorbar\": {\"outlinewidth\": 0, \"ticks\": \"\"}}, \"type\": \"scatter3d\"}], \"scattercarpet\": [{\"marker\": {\"colorbar\": {\"outlinewidth\": 0, \"ticks\": \"\"}}, \"type\": \"scattercarpet\"}], \"scattergeo\": [{\"marker\": {\"colorbar\": {\"outlinewidth\": 0, \"ticks\": \"\"}}, \"type\": \"scattergeo\"}], \"scattergl\": [{\"marker\": {\"colorbar\": {\"outlinewidth\": 0, \"ticks\": \"\"}}, \"type\": \"scattergl\"}], \"scattermapbox\": [{\"marker\": {\"colorbar\": {\"outlinewidth\": 0, \"ticks\": \"\"}}, \"type\": \"scattermapbox\"}], \"scatterpolar\": [{\"marker\": {\"colorbar\": {\"outlinewidth\": 0, \"ticks\": \"\"}}, \"type\": \"scatterpolar\"}], \"scatterpolargl\": [{\"marker\": {\"colorbar\": {\"outlinewidth\": 0, \"ticks\": \"\"}}, \"type\": \"scatterpolargl\"}], \"scatterternary\": [{\"marker\": {\"colorbar\": {\"outlinewidth\": 0, \"ticks\": \"\"}}, \"type\": \"scatterternary\"}], \"surface\": [{\"colorbar\": {\"outlinewidth\": 0, \"ticks\": \"\"}, \"colorscale\": [[0.0, \"#0d0887\"], [0.1111111111111111, \"#46039f\"], [0.2222222222222222, \"#7201a8\"], [0.3333333333333333, \"#9c179e\"], [0.4444444444444444, \"#bd3786\"], [0.5555555555555556, \"#d8576b\"], [0.6666666666666666, \"#ed7953\"], [0.7777777777777778, \"#fb9f3a\"], [0.8888888888888888, \"#fdca26\"], [1.0, \"#f0f921\"]], \"type\": \"surface\"}], \"table\": [{\"cells\": {\"fill\": {\"color\": \"#EBF0F8\"}, \"line\": {\"color\": \"white\"}}, \"header\": {\"fill\": {\"color\": \"#C8D4E3\"}, \"line\": {\"color\": \"white\"}}, \"type\": \"table\"}]}, \"layout\": {\"annotationdefaults\": {\"arrowcolor\": \"#2a3f5f\", \"arrowhead\": 0, \"arrowwidth\": 1}, \"coloraxis\": {\"colorbar\": {\"outlinewidth\": 0, \"ticks\": \"\"}}, \"colorscale\": {\"diverging\": [[0, \"#8e0152\"], [0.1, \"#c51b7d\"], [0.2, \"#de77ae\"], [0.3, \"#f1b6da\"], [0.4, \"#fde0ef\"], [0.5, \"#f7f7f7\"], [0.6, \"#e6f5d0\"], [0.7, \"#b8e186\"], [0.8, \"#7fbc41\"], [0.9, \"#4d9221\"], [1, \"#276419\"]], \"sequential\": [[0.0, \"#0d0887\"], [0.1111111111111111, \"#46039f\"], [0.2222222222222222, \"#7201a8\"], [0.3333333333333333, \"#9c179e\"], [0.4444444444444444, \"#bd3786\"], [0.5555555555555556, \"#d8576b\"], [0.6666666666666666, \"#ed7953\"], [0.7777777777777778, \"#fb9f3a\"], [0.8888888888888888, \"#fdca26\"], [1.0, \"#f0f921\"]], \"sequentialminus\": [[0.0, \"#0d0887\"], [0.1111111111111111, \"#46039f\"], [0.2222222222222222, \"#7201a8\"], [0.3333333333333333, \"#9c179e\"], [0.4444444444444444, \"#bd3786\"], [0.5555555555555556, \"#d8576b\"], [0.6666666666666666, \"#ed7953\"], [0.7777777777777778, \"#fb9f3a\"], [0.8888888888888888, \"#fdca26\"], [1.0, \"#f0f921\"]]}, \"colorway\": [\"#636efa\", \"#EF553B\", \"#00cc96\", \"#ab63fa\", \"#FFA15A\", \"#19d3f3\", \"#FF6692\", \"#B6E880\", \"#FF97FF\", \"#FECB52\"], \"font\": {\"color\": \"#2a3f5f\"}, \"geo\": {\"bgcolor\": \"white\", \"lakecolor\": \"white\", \"landcolor\": \"#E5ECF6\", \"showlakes\": true, \"showland\": true, \"subunitcolor\": \"white\"}, \"hoverlabel\": {\"align\": \"left\"}, \"hovermode\": \"closest\", \"mapbox\": {\"style\": \"light\"}, \"paper_bgcolor\": \"white\", \"plot_bgcolor\": \"#E5ECF6\", \"polar\": {\"angularaxis\": {\"gridcolor\": \"white\", \"linecolor\": \"white\", \"ticks\": \"\"}, \"bgcolor\": \"#E5ECF6\", \"radialaxis\": {\"gridcolor\": \"white\", \"linecolor\": \"white\", \"ticks\": \"\"}}, \"scene\": {\"xaxis\": {\"backgroundcolor\": \"#E5ECF6\", \"gridcolor\": \"white\", \"gridwidth\": 2, \"linecolor\": \"white\", \"showbackground\": true, \"ticks\": \"\", \"zerolinecolor\": \"white\"}, \"yaxis\": {\"backgroundcolor\": \"#E5ECF6\", \"gridcolor\": \"white\", \"gridwidth\": 2, \"linecolor\": \"white\", \"showbackground\": true, \"ticks\": \"\", \"zerolinecolor\": \"white\"}, \"zaxis\": {\"backgroundcolor\": \"#E5ECF6\", \"gridcolor\": \"white\", \"gridwidth\": 2, \"linecolor\": \"white\", \"showbackground\": true, \"ticks\": \"\", \"zerolinecolor\": \"white\"}}, \"shapedefaults\": {\"line\": {\"color\": \"#2a3f5f\"}}, \"ternary\": {\"aaxis\": {\"gridcolor\": \"white\", \"linecolor\": \"white\", \"ticks\": \"\"}, \"baxis\": {\"gridcolor\": \"white\", \"linecolor\": \"white\", \"ticks\": \"\"}, \"bgcolor\": \"#E5ECF6\", \"caxis\": {\"gridcolor\": \"white\", \"linecolor\": \"white\", \"ticks\": \"\"}}, \"title\": {\"x\": 0.05}, \"xaxis\": {\"automargin\": true, \"gridcolor\": \"white\", \"linecolor\": \"white\", \"ticks\": \"\", \"title\": {\"standoff\": 15}, \"zerolinecolor\": \"white\", \"zerolinewidth\": 2}, \"yaxis\": {\"automargin\": true, \"gridcolor\": \"white\", \"linecolor\": \"white\", \"ticks\": \"\", \"title\": {\"standoff\": 15}, \"zerolinecolor\": \"white\", \"zerolinewidth\": 2}}}, \"xaxis\": {\"anchor\": \"y\", \"domain\": [0.0, 1.0], \"type\": \"date\"}, \"yaxis\": {\"anchor\": \"x\", \"domain\": [0.0, 1.0], \"title\": {\"text\": \"EQP_ID\"}}},                        {\"responsive\": true}                    ).then(function(){\n",
       "                            \n",
       "var gd = document.getElementById('65beb9ef-ad0f-429e-969a-221c3e63db82');\n",
       "var x = new MutationObserver(function (mutations, observer) {{\n",
       "        var display = window.getComputedStyle(gd).display;\n",
       "        if (!display || display === 'none') {{\n",
       "            console.log([gd, 'removed!']);\n",
       "            Plotly.purge(gd);\n",
       "            observer.disconnect();\n",
       "        }}\n",
       "}});\n",
       "\n",
       "// Listen for the removal of the full notebook cells\n",
       "var notebookContainer = gd.closest('#notebook-container');\n",
       "if (notebookContainer) {{\n",
       "    x.observe(notebookContainer, {childList: true});\n",
       "}}\n",
       "\n",
       "// Listen for the clearing of the current output cell\n",
       "var outputEl = gd.closest('.output');\n",
       "if (outputEl) {{\n",
       "    x.observe(outputEl, {childList: true});\n",
       "}}\n",
       "\n",
       "                        })                };                });            </script>        </div>"
      ]
     },
     "metadata": {},
     "output_type": "display_data"
    }
   ],
   "source": [
    "timline_view"
   ]
  },
  {
   "cell_type": "code",
   "execution_count": 31,
   "metadata": {
    "collapsed": true
   },
   "outputs": [
    {
     "data": {
      "text/plain": [
       "'{\"data\": [{\"alignmentgroup\": \"True\", \"base\": [\"2019-11-08 0:00\", \"2019-11-08 0:00\", \"2019-11-08 0:00\", \"2019-11-08 0:00\", \"2019-11-08 0:53\", \"2019-11-08 0:53\", \"2019-11-08 0:53\", \"2019-11-08 1:46\", \"2019-11-08 1:50\", \"2019-11-08 1:50\", \"2019-11-08 4:03\", \"2019-11-08 4:30\", \"2019-11-08 4:30\", \"2019-11-08 4:30\", \"2019-11-08 4:33\", \"2019-11-08 5:00\", \"2019-11-08 5:26\", \"2019-11-08 7:10\", \"2019-11-08 7:10\", \"2019-11-08 7:40\", \"2019-11-08 7:40\", \"2019-11-08 9:50\", \"2019-11-08 9:50\", \"2019-11-08 10:20\", \"2019-11-08 10:20\", \"2019-11-08 10:20\", \"2019-11-08 12:30\", \"2019-11-08 13:00\", \"2019-11-08 18:20\", \"2019-11-08 18:50\", \"2019-11-08 21:30\", \"2019-11-08 21:30\", \"2019-11-09 0:00\", \"2019-11-09 0:00\", \"2019-11-09 0:00\", \"2019-11-09 0:10\", \"2019-11-09 0:30\", \"2019-11-09 0:30\", \"2019-11-09 0:40\", \"2019-11-09 0:53\", \"2019-11-09 3:20\", \"2019-11-09 3:50\", \"2019-11-09 4:03\", \"2019-11-09 4:33\", \"2019-11-09 5:26\", \"2019-11-09 6:30\", \"2019-11-09 6:30\", \"2019-11-09 7:00\", \"2019-11-09 8:40\", \"2019-11-09 9:10\", \"2019-11-09 9:10\", \"2019-11-09 9:10\", \"2019-11-09 9:40\", \"2019-11-09 11:50\", \"2019-11-09 11:50\", \"2019-11-09 17:40\", \"2019-11-09 18:10\", \"2019-11-09 20:50\", \"2019-11-09 20:50\", \"2019-11-09 21:20\", \"2019-11-09 23:30\", \"2019-11-10 0:00\", \"2019-11-10 0:00\", \"2019-11-10 0:00\", \"2019-11-10 0:00\", \"2019-11-10 0:30\", \"2019-11-10 0:30\", \"2019-11-10 0:53\", \"2019-11-10 4:03\", \"2019-11-10 4:33\", \"2019-11-10 5:26\", \"2019-11-10 7:30\", \"2019-11-10 8:00\", \"2019-11-10 8:00\", \"2019-11-10 8:30\", \"2019-11-10 10:40\", \"2019-11-10 10:40\", \"2019-11-10 11:10\", \"2019-11-10 12:26\", \"2019-11-10 13:20\", \"2019-11-10 13:50\", \"2019-11-10 13:50\", \"2019-11-10 14:20\", \"2019-11-10 19:40\", \"2019-11-10 20:10\", \"2019-11-10 22:50\", \"2019-11-10 22:50\", \"2019-11-11 0:00\", \"2019-11-11 0:00\", \"2019-11-11 0:00\", \"2019-11-11 0:30\", \"2019-11-11 0:30\", \"2019-11-11 0:53\", \"2019-11-11 1:30\", \"2019-11-11 2:00\", \"2019-11-11 4:03\", \"2019-11-11 4:33\", \"2019-11-11 5:26\", \"2019-11-11 9:00\", \"2019-11-11 9:30\", \"2019-11-11 10:00\", \"2019-11-11 10:30\", \"2019-11-11 12:10\", \"2019-11-11 12:10\", \"2019-11-11 13:10\", \"2019-11-11 13:56\", \"2019-11-11 14:50\", \"2019-11-11 15:20\", \"2019-11-11 15:50\", \"2019-11-11 16:20\", \"2019-11-11 21:40\", \"2019-11-11 22:10\", \"2019-11-12 0:00\", \"2019-11-12 0:00\", \"2019-11-12 0:00\", \"2019-11-12 0:30\", \"2019-11-12 0:30\", \"2019-11-12 0:50\", \"2019-11-12 0:50\", \"2019-11-12 0:53\", \"2019-11-12 1:20\", \"2019-11-12 3:30\", \"2019-11-12 4:03\", \"2019-11-12 4:33\", \"2019-11-12 5:26\", \"2019-11-12 10:30\", \"2019-11-12 11:00\", \"2019-11-12 12:00\", \"2019-11-12 12:30\", \"2019-11-12 13:40\", \"2019-11-12 13:40\", \"2019-11-12 15:10\", \"2019-11-12 15:26\", \"2019-11-12 16:20\", \"2019-11-12 16:50\", \"2019-11-12 17:50\", \"2019-11-12 18:20\", \"2019-11-12 23:40\", \"2019-11-13 0:00\", \"2019-11-13 0:00\", \"2019-11-13 0:00\", \"2019-11-13 0:10\", \"2019-11-13 0:30\", \"2019-11-13 0:30\", \"2019-11-13 0:53\", \"2019-11-13 2:50\", \"2019-11-13 2:50\", \"2019-11-13 3:20\", \"2019-11-13 4:03\", \"2019-11-13 4:33\", \"2019-11-13 5:26\", \"2019-11-13 5:30\", \"2019-11-13 12:00\", \"2019-11-13 12:30\", \"2019-11-13 14:00\", \"2019-11-13 14:30\", \"2019-11-13 15:10\", \"2019-11-13 15:10\", \"2019-11-13 15:40\", \"2019-11-13 17:10\", \"2019-11-13 17:26\", \"2019-11-13 17:50\", \"2019-11-13 18:20\", \"2019-11-13 19:50\", \"2019-11-13 20:20\", \"2019-11-14 1:40\", \"2019-11-14 2:10\", \"2019-11-14 2:16\", \"2019-11-14 2:46\", \"2019-11-14 3:40\", \"2019-11-14 4:50\", \"2019-11-14 4:50\", \"2019-11-14 5:20\", \"2019-11-14 7:30\", \"2019-11-14 21:50\", \"2019-11-14 22:20\"], \"hovertemplate\": \"PRODUCT_ID=Tumbler_KANU<br>START_TIME=%{base}<br>END_TIME=%{x}<br>EQP_ID=%{y}<extra></extra>\", \"legendgroup\": \"Tumbler_KANU\", \"marker\": {\"color\": \"#636efa\"}, \"name\": \"Tumbler_KANU\", \"offsetgroup\": \"Tumbler_KANU\", \"orientation\": \"h\", \"showlegend\": true, \"textposition\": \"auto\", \"x\": [6600000.0, 3180000.0, 3180000.0, 3180000.0, 3180000.0, 3180000.0, 3180000.0, 3240000.0, 9600000.0, 6360000.0, 1800000.0, 1800000.0, 9600000.0, 6360000.0, 3180000.0, 9600000.0, 3240000.0, 9600000.0, 6360000.0, 9600000.0, 6360000.0, 9600000.0, 1800000.0, 6360000.0, 9600000.0, 6360000.0, 6360000.0, 6360000.0, 1800000.0, 9600000.0, 9600000.0, 6360000.0, 1800000.0, 1800000.0, 3180000.0, 1800000.0, 3180000.0, 3180000.0, 6360000.0, 3180000.0, 1800000.0, 9600000.0, 1800000.0, 3180000.0, 3240000.0, 9600000.0, 1800000.0, 6360000.0, 1800000.0, 9600000.0, 9600000.0, 1800000.0, 6360000.0, 6360000.0, 6360000.0, 1800000.0, 9600000.0, 9600000.0, 1800000.0, 6360000.0, 1800000.0, 6360000.0, 1800000.0, 1800000.0, 3180000.0, 3180000.0, 3180000.0, 3180000.0, 1800000.0, 3180000.0, 3240000.0, 1800000.0, 9600000.0, 1800000.0, 9600000.0, 9600000.0, 6360000.0, 9600000.0, 6420000.0, 1800000.0, 6360000.0, 1800000.0, 6360000.0, 1800000.0, 9600000.0, 9600000.0, 6360000.0, 1800000.0, 1800000.0, 3180000.0, 3180000.0, 3180000.0, 3180000.0, 1800000.0, 6360000.0, 1800000.0, 3180000.0, 3240000.0, 1800000.0, 9600000.0, 1800000.0, 9600000.0, 9600000.0, 6360000.0, 9600000.0, 6420000.0, 1800000.0, 6360000.0, 1800000.0, 6360000.0, 1800000.0, 9600000.0, 1800000.0, 1800000.0, 3180000.0, 3180000.0, 3180000.0, 9600000.0, 1800000.0, 3180000.0, 6360000.0, 6360000.0, 1800000.0, 3180000.0, 3240000.0, 1800000.0, 9600000.0, 1800000.0, 9600000.0, 9600000.0, 6360000.0, 9600000.0, 6420000.0, 1800000.0, 6360000.0, 1800000.0, 6360000.0, 1800000.0, 1800000.0, 1800000.0, 3180000.0, 9600000.0, 3180000.0, 3180000.0, 3180000.0, 9600000.0, 1800000.0, 6360000.0, 1800000.0, 3180000.0, 3240000.0, 6360000.0, 1800000.0, 9600000.0, 1800000.0, 9600000.0, 9600000.0, 1800000.0, 6360000.0, 9600000.0, 6420000.0, 1800000.0, 6360000.0, 1800000.0, 6360000.0, 1800000.0, 9600000.0, 1800000.0, 3240000.0, 3180000.0, 9600000.0, 1800000.0, 6360000.0, 6360000.0, 1800000.0, 9600000.0], \"xaxis\": \"x\", \"y\": [\"EQP21\", \"EQP11\", \"EQP12\", \"EQP13\", \"EQP11\", \"EQP12\", \"EQP13\", \"EQP11\", \"EQP21\", \"EQP31\", \"EQP13\", \"EQP22\", \"EQP21\", \"EQP32\", \"EQP13\", \"EQP22\", \"EQP13\", \"EQP21\", \"EQP32\", \"EQP22\", \"EQP33\", \"EQP21\", \"EQP31\", \"EQP31\", \"EQP22\", \"EQP32\", \"EQP31\", \"EQP32\", \"EQP21\", \"EQP21\", \"EQP21\", \"EQP33\", \"EQP11\", \"EQP12\", \"EQP13\", \"EQP31\", \"EQP11\", \"EQP12\", \"EQP31\", \"EQP13\", \"EQP22\", \"EQP22\", \"EQP13\", \"EQP13\", \"EQP13\", \"EQP22\", \"EQP32\", \"EQP32\", \"EQP21\", \"EQP21\", \"EQP22\", \"EQP31\", \"EQP31\", \"EQP31\", \"EQP32\", \"EQP22\", \"EQP22\", \"EQP22\", \"EQP33\", \"EQP33\", \"EQP32\", \"EQP32\", \"EQP11\", \"EQP12\", \"EQP13\", \"EQP11\", \"EQP12\", \"EQP13\", \"EQP13\", \"EQP13\", \"EQP13\", \"EQP21\", \"EQP21\", \"EQP22\", \"EQP22\", \"EQP21\", \"EQP33\", \"EQP22\", \"EQP33\", \"EQP31\", \"EQP31\", \"EQP32\", \"EQP32\", \"EQP22\", \"EQP22\", \"EQP22\", \"EQP33\", \"EQP11\", \"EQP12\", \"EQP13\", \"EQP11\", \"EQP12\", \"EQP13\", \"EQP32\", \"EQP32\", \"EQP13\", \"EQP13\", \"EQP13\", \"EQP21\", \"EQP21\", \"EQP22\", \"EQP22\", \"EQP21\", \"EQP33\", \"EQP22\", \"EQP33\", \"EQP31\", \"EQP31\", \"EQP32\", \"EQP32\", \"EQP22\", \"EQP22\", \"EQP11\", \"EQP12\", \"EQP13\", \"EQP11\", \"EQP12\", \"EQP22\", \"EQP31\", \"EQP13\", \"EQP31\", \"EQP31\", \"EQP13\", \"EQP13\", \"EQP13\", \"EQP21\", \"EQP21\", \"EQP22\", \"EQP22\", \"EQP21\", \"EQP33\", \"EQP22\", \"EQP33\", \"EQP31\", \"EQP31\", \"EQP32\", \"EQP32\", \"EQP22\", \"EQP11\", \"EQP12\", \"EQP13\", \"EQP22\", \"EQP11\", \"EQP12\", \"EQP13\", \"EQP22\", \"EQP31\", \"EQP31\", \"EQP13\", \"EQP13\", \"EQP13\", \"EQP31\", \"EQP21\", \"EQP21\", \"EQP22\", \"EQP22\", \"EQP21\", \"EQP33\", \"EQP33\", \"EQP22\", \"EQP33\", \"EQP31\", \"EQP31\", \"EQP32\", \"EQP32\", \"EQP22\", \"EQP22\", \"EQP13\", \"EQP13\", \"EQP13\", \"EQP22\", \"EQP31\", \"EQP31\", \"EQP31\", \"EQP22\", \"EQP22\"], \"yaxis\": \"y\", \"type\": \"bar\"}, {\"alignmentgroup\": \"True\", \"base\": [\"2019-11-08 0:00\", \"2019-11-08 1:46\", \"2019-11-08 1:46\", \"2019-11-08 2:16\", \"2019-11-08 2:16\", \"2019-11-08 4:30\", \"2019-11-08 5:00\", \"2019-11-08 12:30\", \"2019-11-08 13:00\", \"2019-11-08 13:00\", \"2019-11-08 13:30\", \"2019-11-08 18:20\", \"2019-11-08 18:50\", \"2019-11-08 18:50\", \"2019-11-08 19:20\", \"2019-11-09 1:23\", \"2019-11-09 1:23\", \"2019-11-09 1:46\", \"2019-11-09 1:53\", \"2019-11-09 1:53\", \"2019-11-09 2:16\", \"2019-11-09 11:50\", \"2019-11-09 11:50\", \"2019-11-09 12:20\", \"2019-11-09 12:20\", \"2019-11-09 17:40\", \"2019-11-09 17:40\", \"2019-11-09 17:40\", \"2019-11-09 18:10\", \"2019-11-09 18:10\", \"2019-11-09 23:00\", \"2019-11-10 1:23\", \"2019-11-10 1:23\", \"2019-11-10 1:46\", \"2019-11-10 1:53\", \"2019-11-10 1:53\", \"2019-11-10 2:16\", \"2019-11-10 13:20\", \"2019-11-10 13:50\", \"2019-11-10 13:50\", \"2019-11-10 14:20\", \"2019-11-10 19:10\", \"2019-11-10 19:10\", \"2019-11-10 19:40\", \"2019-11-10 19:40\", \"2019-11-10 20:10\", \"2019-11-11 0:30\", \"2019-11-11 1:23\", \"2019-11-11 1:23\", \"2019-11-11 1:46\", \"2019-11-11 1:53\", \"2019-11-11 1:53\", \"2019-11-11 2:16\", \"2019-11-11 14:50\", \"2019-11-11 15:20\", \"2019-11-11 15:50\", \"2019-11-11 16:20\", \"2019-11-11 20:40\", \"2019-11-11 20:40\", \"2019-11-11 21:10\", \"2019-11-11 21:40\", \"2019-11-11 22:10\", \"2019-11-12 1:23\", \"2019-11-12 1:23\", \"2019-11-12 1:46\", \"2019-11-12 1:53\", \"2019-11-12 1:53\", \"2019-11-12 2:00\", \"2019-11-12 2:16\", \"2019-11-12 16:20\", \"2019-11-12 16:50\", \"2019-11-12 17:50\", \"2019-11-12 18:20\", \"2019-11-12 22:10\", \"2019-11-12 22:10\", \"2019-11-12 22:40\", \"2019-11-12 23:40\", \"2019-11-13 0:10\", \"2019-11-13 1:23\", \"2019-11-13 1:23\", \"2019-11-13 1:46\", \"2019-11-13 1:53\", \"2019-11-13 1:53\", \"2019-11-13 2:16\", \"2019-11-13 3:30\", \"2019-11-13 4:00\", \"2019-11-13 17:50\", \"2019-11-13 18:20\", \"2019-11-13 19:50\", \"2019-11-13 20:20\", \"2019-11-13 23:40\", \"2019-11-13 23:40\", \"2019-11-14 0:00\", \"2019-11-14 0:00\", \"2019-11-14 0:00\", \"2019-11-14 0:10\", \"2019-11-14 0:30\", \"2019-11-14 0:30\", \"2019-11-14 0:30\", \"2019-11-14 1:40\", \"2019-11-14 2:10\", \"2019-11-14 5:00\", \"2019-11-14 5:30\", \"2019-11-14 13:30\", \"2019-11-14 14:00\", \"2019-11-14 16:00\", \"2019-11-14 16:30\", \"2019-11-14 19:20\", \"2019-11-14 19:20\", \"2019-11-14 19:50\", \"2019-11-14 21:50\", \"2019-11-14 22:20\"], \"hovertemplate\": \"PRODUCT_ID=Tumbler_STARBUCKS<br>START_TIME=%{base}<br>END_TIME=%{x}<br>EQP_ID=%{y}<extra></extra>\", \"legendgroup\": \"Tumbler_STARBUCKS\", \"marker\": {\"color\": \"#EF553B\"}, \"name\": \"Tumbler_STARBUCKS\", \"offsetgroup\": \"Tumbler_STARBUCKS\", \"orientation\": \"h\", \"showlegend\": true, \"textposition\": \"auto\", \"x\": [16200000.0, 1800000.0, 1800000.0, 6420000.0, 6420000.0, 1800000.0, 12780000.0, 1800000.0, 19200000.0, 1800000.0, 19200000.0, 1800000.0, 12780000.0, 1800000.0, 12780000.0, 1800000.0, 1800000.0, 1800000.0, 6420000.0, 6420000.0, 6420000.0, 1800000.0, 1800000.0, 19200000.0, 19200000.0, 19200000.0, 1800000.0, 1800000.0, 12780000.0, 12780000.0, 12780000.0, 1800000.0, 1800000.0, 1800000.0, 6420000.0, 6420000.0, 6420000.0, 1800000.0, 19200000.0, 1800000.0, 19200000.0, 19200000.0, 1800000.0, 12780000.0, 1800000.0, 12780000.0, 12780000.0, 1800000.0, 1800000.0, 1800000.0, 6420000.0, 6420000.0, 6420000.0, 1800000.0, 19200000.0, 1800000.0, 19200000.0, 19200000.0, 1800000.0, 12780000.0, 1800000.0, 12780000.0, 1800000.0, 1800000.0, 1800000.0, 6420000.0, 6420000.0, 12780000.0, 6420000.0, 1800000.0, 19200000.0, 1800000.0, 19200000.0, 19200000.0, 1800000.0, 12780000.0, 1800000.0, 12780000.0, 1800000.0, 1800000.0, 1800000.0, 6420000.0, 6420000.0, 6420000.0, 1800000.0, 12780000.0, 1800000.0, 19200000.0, 1800000.0, 19200000.0, 19200000.0, 1800000.0, 1800000.0, 1800000.0, 1800000.0, 12780000.0, 6360000.0, 6360000.0, 6360000.0, 1800000.0, 12780000.0, 1800000.0, 12780000.0, 1800000.0, 19200000.0, 1800000.0, 19200000.0, 19200000.0, 1800000.0, 12780000.0, 1800000.0, 12780000.0], \"xaxis\": \"x\", \"y\": [\"EQP22\", \"EQP12\", \"EQP13\", \"EQP12\", \"EQP13\", \"EQP31\", \"EQP31\", \"EQP21\", \"EQP21\", \"EQP22\", \"EQP22\", \"EQP31\", \"EQP31\", \"EQP32\", \"EQP32\", \"EQP11\", \"EQP12\", \"EQP13\", \"EQP11\", \"EQP12\", \"EQP13\", \"EQP21\", \"EQP22\", \"EQP21\", \"EQP22\", \"EQP21\", \"EQP31\", \"EQP32\", \"EQP31\", \"EQP32\", \"EQP31\", \"EQP11\", \"EQP12\", \"EQP13\", \"EQP11\", \"EQP12\", \"EQP13\", \"EQP21\", \"EQP21\", \"EQP22\", \"EQP22\", \"EQP21\", \"EQP31\", \"EQP31\", \"EQP32\", \"EQP32\", \"EQP31\", \"EQP11\", \"EQP12\", \"EQP13\", \"EQP11\", \"EQP12\", \"EQP13\", \"EQP21\", \"EQP21\", \"EQP22\", \"EQP22\", \"EQP21\", \"EQP31\", \"EQP31\", \"EQP32\", \"EQP32\", \"EQP11\", \"EQP12\", \"EQP13\", \"EQP11\", \"EQP12\", \"EQP32\", \"EQP13\", \"EQP21\", \"EQP21\", \"EQP22\", \"EQP22\", \"EQP21\", \"EQP31\", \"EQP31\", \"EQP32\", \"EQP32\", \"EQP11\", \"EQP12\", \"EQP13\", \"EQP11\", \"EQP12\", \"EQP13\", \"EQP33\", \"EQP33\", \"EQP21\", \"EQP21\", \"EQP22\", \"EQP22\", \"EQP21\", \"EQP31\", \"EQP11\", \"EQP12\", \"EQP13\", \"EQP31\", \"EQP11\", \"EQP12\", \"EQP13\", \"EQP32\", \"EQP32\", \"EQP33\", \"EQP33\", \"EQP21\", \"EQP21\", \"EQP22\", \"EQP22\", \"EQP21\", \"EQP31\", \"EQP31\", \"EQP32\", \"EQP32\"], \"yaxis\": \"y\", \"type\": \"bar\"}, {\"alignmentgroup\": \"True\", \"base\": [\"2019-11-08 2:40\", \"2019-11-08 3:10\", \"2019-11-08 4:03\", \"2019-11-08 4:33\", \"2019-11-08 18:50\", \"2019-11-08 19:20\", \"2019-11-09 0:10\", \"2019-11-09 0:40\", \"2019-11-09 3:20\", \"2019-11-09 3:40\", \"2019-11-09 3:40\", \"2019-11-09 3:50\", \"2019-11-09 4:10\", \"2019-11-09 4:10\", \"2019-11-09 8:40\", \"2019-11-09 9:10\", \"2019-11-09 23:00\", \"2019-11-09 23:30\", \"2019-11-09 23:30\", \"2019-11-10 0:00\", \"2019-11-10 3:40\", \"2019-11-10 3:40\", \"2019-11-10 4:10\", \"2019-11-10 4:10\", \"2019-11-10 7:30\", \"2019-11-10 8:00\", \"2019-11-10 8:00\", \"2019-11-10 8:30\", \"2019-11-11 0:30\", \"2019-11-11 1:00\", \"2019-11-11 1:30\", \"2019-11-11 2:00\", \"2019-11-11 3:40\", \"2019-11-11 3:40\", \"2019-11-11 4:10\", \"2019-11-11 4:10\", \"2019-11-11 9:00\", \"2019-11-11 9:30\", \"2019-11-11 10:00\", \"2019-11-11 10:30\", \"2019-11-12 2:00\", \"2019-11-12 2:30\", \"2019-11-12 3:30\", \"2019-11-12 3:40\", \"2019-11-12 3:40\", \"2019-11-12 4:00\", \"2019-11-12 4:10\", \"2019-11-12 4:10\", \"2019-11-12 10:30\", \"2019-11-12 11:00\", \"2019-11-12 12:00\", \"2019-11-12 12:30\", \"2019-11-13 3:30\", \"2019-11-13 3:40\", \"2019-11-13 3:40\", \"2019-11-13 4:00\", \"2019-11-13 4:10\", \"2019-11-13 4:10\", \"2019-11-13 5:30\", \"2019-11-13 6:00\", \"2019-11-13 12:00\", \"2019-11-13 12:30\", \"2019-11-13 14:00\", \"2019-11-13 14:30\", \"2019-11-14 2:16\", \"2019-11-14 2:16\", \"2019-11-14 2:46\", \"2019-11-14 2:46\", \"2019-11-14 5:00\", \"2019-11-14 5:30\", \"2019-11-14 7:30\", \"2019-11-14 8:00\", \"2019-11-14 13:30\", \"2019-11-14 14:00\", \"2019-11-14 16:00\", \"2019-11-14 16:30\"], \"hovertemplate\": \"PRODUCT_ID=Tumbler_TOMNTOMS<br>START_TIME=%{base}<br>END_TIME=%{x}<br>EQP_ID=%{y}<extra></extra>\", \"legendgroup\": \"Tumbler_TOMNTOMS\", \"marker\": {\"color\": \"#00cc96\"}, \"name\": \"Tumbler_TOMNTOMS\", \"offsetgroup\": \"Tumbler_TOMNTOMS\", \"orientation\": \"h\", \"showlegend\": true, \"textposition\": \"auto\", \"x\": [1800000.0, 9600000.0, 1800000.0, 9600000.0, 1800000.0, 28800000.0, 1800000.0, 28800000.0, 1800000.0, 1800000.0, 1800000.0, 19200000.0, 9600000.0, 9600000.0, 1800000.0, 19200000.0, 1800000.0, 28800000.0, 1800000.0, 28800000.0, 1800000.0, 1800000.0, 9600000.0, 9600000.0, 1800000.0, 19200000.0, 1800000.0, 19200000.0, 1800000.0, 28800000.0, 1800000.0, 28800000.0, 1800000.0, 1800000.0, 9600000.0, 9600000.0, 1800000.0, 19200000.0, 1800000.0, 19200000.0, 1800000.0, 28800000.0, 1800000.0, 1800000.0, 1800000.0, 28800000.0, 9600000.0, 9600000.0, 1800000.0, 19200000.0, 1800000.0, 19200000.0, 1800000.0, 1800000.0, 1800000.0, 28800000.0, 9600000.0, 9600000.0, 1800000.0, 28800000.0, 1800000.0, 19200000.0, 1800000.0, 19200000.0, 1800000.0, 1800000.0, 9600000.0, 9600000.0, 1800000.0, 28800000.0, 1800000.0, 28800000.0, 1800000.0, 19200000.0, 1800000.0, 19200000.0], \"xaxis\": \"x\", \"y\": [\"EQP11\", \"EQP11\", \"EQP12\", \"EQP12\", \"EQP22\", \"EQP22\", \"EQP21\", \"EQP21\", \"EQP31\", \"EQP11\", \"EQP12\", \"EQP31\", \"EQP11\", \"EQP12\", \"EQP33\", \"EQP33\", \"EQP21\", \"EQP21\", \"EQP22\", \"EQP22\", \"EQP11\", \"EQP12\", \"EQP11\", \"EQP12\", \"EQP31\", \"EQP31\", \"EQP32\", \"EQP32\", \"EQP21\", \"EQP21\", \"EQP22\", \"EQP22\", \"EQP11\", \"EQP12\", \"EQP11\", \"EQP12\", \"EQP31\", \"EQP31\", \"EQP32\", \"EQP32\", \"EQP21\", \"EQP21\", \"EQP22\", \"EQP11\", \"EQP12\", \"EQP22\", \"EQP11\", \"EQP12\", \"EQP31\", \"EQP31\", \"EQP32\", \"EQP32\", \"EQP21\", \"EQP11\", \"EQP12\", \"EQP21\", \"EQP11\", \"EQP12\", \"EQP22\", \"EQP22\", \"EQP31\", \"EQP31\", \"EQP32\", \"EQP32\", \"EQP11\", \"EQP12\", \"EQP11\", \"EQP12\", \"EQP21\", \"EQP21\", \"EQP22\", \"EQP22\", \"EQP31\", \"EQP31\", \"EQP32\", \"EQP32\"], \"yaxis\": \"y\", \"type\": \"bar\"}], \"layout\": {\"template\": {\"data\": {\"histogram2dcontour\": [{\"type\": \"histogram2dcontour\", \"colorbar\": {\"outlinewidth\": 0, \"ticks\": \"\"}, \"colorscale\": [[0.0, \"#0d0887\"], [0.1111111111111111, \"#46039f\"], [0.2222222222222222, \"#7201a8\"], [0.3333333333333333, \"#9c179e\"], [0.4444444444444444, \"#bd3786\"], [0.5555555555555556, \"#d8576b\"], [0.6666666666666666, \"#ed7953\"], [0.7777777777777778, \"#fb9f3a\"], [0.8888888888888888, \"#fdca26\"], [1.0, \"#f0f921\"]]}], \"choropleth\": [{\"type\": \"choropleth\", \"colorbar\": {\"outlinewidth\": 0, \"ticks\": \"\"}}], \"histogram2d\": [{\"type\": \"histogram2d\", \"colorbar\": {\"outlinewidth\": 0, \"ticks\": \"\"}, \"colorscale\": [[0.0, \"#0d0887\"], [0.1111111111111111, \"#46039f\"], [0.2222222222222222, \"#7201a8\"], [0.3333333333333333, \"#9c179e\"], [0.4444444444444444, \"#bd3786\"], [0.5555555555555556, \"#d8576b\"], [0.6666666666666666, \"#ed7953\"], [0.7777777777777778, \"#fb9f3a\"], [0.8888888888888888, \"#fdca26\"], [1.0, \"#f0f921\"]]}], \"heatmap\": [{\"type\": \"heatmap\", \"colorbar\": {\"outlinewidth\": 0, \"ticks\": \"\"}, \"colorscale\": [[0.0, \"#0d0887\"], [0.1111111111111111, \"#46039f\"], [0.2222222222222222, \"#7201a8\"], [0.3333333333333333, \"#9c179e\"], [0.4444444444444444, \"#bd3786\"], [0.5555555555555556, \"#d8576b\"], [0.6666666666666666, \"#ed7953\"], [0.7777777777777778, \"#fb9f3a\"], [0.8888888888888888, \"#fdca26\"], [1.0, \"#f0f921\"]]}], \"heatmapgl\": [{\"type\": \"heatmapgl\", \"colorbar\": {\"outlinewidth\": 0, \"ticks\": \"\"}, \"colorscale\": [[0.0, \"#0d0887\"], [0.1111111111111111, \"#46039f\"], [0.2222222222222222, \"#7201a8\"], [0.3333333333333333, \"#9c179e\"], [0.4444444444444444, \"#bd3786\"], [0.5555555555555556, \"#d8576b\"], [0.6666666666666666, \"#ed7953\"], [0.7777777777777778, \"#fb9f3a\"], [0.8888888888888888, \"#fdca26\"], [1.0, \"#f0f921\"]]}], \"contourcarpet\": [{\"type\": \"contourcarpet\", \"colorbar\": {\"outlinewidth\": 0, \"ticks\": \"\"}}], \"contour\": [{\"type\": \"contour\", \"colorbar\": {\"outlinewidth\": 0, \"ticks\": \"\"}, \"colorscale\": [[0.0, \"#0d0887\"], [0.1111111111111111, \"#46039f\"], [0.2222222222222222, \"#7201a8\"], [0.3333333333333333, \"#9c179e\"], [0.4444444444444444, \"#bd3786\"], [0.5555555555555556, \"#d8576b\"], [0.6666666666666666, \"#ed7953\"], [0.7777777777777778, \"#fb9f3a\"], [0.8888888888888888, \"#fdca26\"], [1.0, \"#f0f921\"]]}], \"surface\": [{\"type\": \"surface\", \"colorbar\": {\"outlinewidth\": 0, \"ticks\": \"\"}, \"colorscale\": [[0.0, \"#0d0887\"], [0.1111111111111111, \"#46039f\"], [0.2222222222222222, \"#7201a8\"], [0.3333333333333333, \"#9c179e\"], [0.4444444444444444, \"#bd3786\"], [0.5555555555555556, \"#d8576b\"], [0.6666666666666666, \"#ed7953\"], [0.7777777777777778, \"#fb9f3a\"], [0.8888888888888888, \"#fdca26\"], [1.0, \"#f0f921\"]]}], \"mesh3d\": [{\"type\": \"mesh3d\", \"colorbar\": {\"outlinewidth\": 0, \"ticks\": \"\"}}], \"scatter\": [{\"type\": \"scatter\", \"marker\": {\"colorbar\": {\"outlinewidth\": 0, \"ticks\": \"\"}}}], \"parcoords\": [{\"type\": \"parcoords\", \"line\": {\"colorbar\": {\"outlinewidth\": 0, \"ticks\": \"\"}}}], \"scatterpolargl\": [{\"type\": \"scatterpolargl\", \"marker\": {\"colorbar\": {\"outlinewidth\": 0, \"ticks\": \"\"}}}], \"bar\": [{\"error_x\": {\"color\": \"#2a3f5f\"}, \"error_y\": {\"color\": \"#2a3f5f\"}, \"marker\": {\"line\": {\"color\": \"#E5ECF6\", \"width\": 0.5}}, \"type\": \"bar\"}], \"scattergeo\": [{\"type\": \"scattergeo\", \"marker\": {\"colorbar\": {\"outlinewidth\": 0, \"ticks\": \"\"}}}], \"scatterpolar\": [{\"type\": \"scatterpolar\", \"marker\": {\"colorbar\": {\"outlinewidth\": 0, \"ticks\": \"\"}}}], \"histogram\": [{\"type\": \"histogram\", \"marker\": {\"colorbar\": {\"outlinewidth\": 0, \"ticks\": \"\"}}}], \"scattergl\": [{\"type\": \"scattergl\", \"marker\": {\"colorbar\": {\"outlinewidth\": 0, \"ticks\": \"\"}}}], \"scatter3d\": [{\"type\": \"scatter3d\", \"line\": {\"colorbar\": {\"outlinewidth\": 0, \"ticks\": \"\"}}, \"marker\": {\"colorbar\": {\"outlinewidth\": 0, \"ticks\": \"\"}}}], \"scattermapbox\": [{\"type\": \"scattermapbox\", \"marker\": {\"colorbar\": {\"outlinewidth\": 0, \"ticks\": \"\"}}}], \"scatterternary\": [{\"type\": \"scatterternary\", \"marker\": {\"colorbar\": {\"outlinewidth\": 0, \"ticks\": \"\"}}}], \"scattercarpet\": [{\"type\": \"scattercarpet\", \"marker\": {\"colorbar\": {\"outlinewidth\": 0, \"ticks\": \"\"}}}], \"carpet\": [{\"aaxis\": {\"endlinecolor\": \"#2a3f5f\", \"gridcolor\": \"white\", \"linecolor\": \"white\", \"minorgridcolor\": \"white\", \"startlinecolor\": \"#2a3f5f\"}, \"baxis\": {\"endlinecolor\": \"#2a3f5f\", \"gridcolor\": \"white\", \"linecolor\": \"white\", \"minorgridcolor\": \"white\", \"startlinecolor\": \"#2a3f5f\"}, \"type\": \"carpet\"}], \"table\": [{\"cells\": {\"fill\": {\"color\": \"#EBF0F8\"}, \"line\": {\"color\": \"white\"}}, \"header\": {\"fill\": {\"color\": \"#C8D4E3\"}, \"line\": {\"color\": \"white\"}}, \"type\": \"table\"}], \"barpolar\": [{\"marker\": {\"line\": {\"color\": \"#E5ECF6\", \"width\": 0.5}}, \"type\": \"barpolar\"}], \"pie\": [{\"automargin\": true, \"type\": \"pie\"}]}, \"layout\": {\"colorway\": [\"#636efa\", \"#EF553B\", \"#00cc96\", \"#ab63fa\", \"#FFA15A\", \"#19d3f3\", \"#FF6692\", \"#B6E880\", \"#FF97FF\", \"#FECB52\"], \"font\": {\"color\": \"#2a3f5f\"}, \"hovermode\": \"closest\", \"hoverlabel\": {\"align\": \"left\"}, \"paper_bgcolor\": \"white\", \"plot_bgcolor\": \"#E5ECF6\", \"polar\": {\"bgcolor\": \"#E5ECF6\", \"angularaxis\": {\"gridcolor\": \"white\", \"linecolor\": \"white\", \"ticks\": \"\"}, \"radialaxis\": {\"gridcolor\": \"white\", \"linecolor\": \"white\", \"ticks\": \"\"}}, \"ternary\": {\"bgcolor\": \"#E5ECF6\", \"aaxis\": {\"gridcolor\": \"white\", \"linecolor\": \"white\", \"ticks\": \"\"}, \"baxis\": {\"gridcolor\": \"white\", \"linecolor\": \"white\", \"ticks\": \"\"}, \"caxis\": {\"gridcolor\": \"white\", \"linecolor\": \"white\", \"ticks\": \"\"}}, \"coloraxis\": {\"colorbar\": {\"outlinewidth\": 0, \"ticks\": \"\"}}, \"colorscale\": {\"sequential\": [[0.0, \"#0d0887\"], [0.1111111111111111, \"#46039f\"], [0.2222222222222222, \"#7201a8\"], [0.3333333333333333, \"#9c179e\"], [0.4444444444444444, \"#bd3786\"], [0.5555555555555556, \"#d8576b\"], [0.6666666666666666, \"#ed7953\"], [0.7777777777777778, \"#fb9f3a\"], [0.8888888888888888, \"#fdca26\"], [1.0, \"#f0f921\"]], \"sequentialminus\": [[0.0, \"#0d0887\"], [0.1111111111111111, \"#46039f\"], [0.2222222222222222, \"#7201a8\"], [0.3333333333333333, \"#9c179e\"], [0.4444444444444444, \"#bd3786\"], [0.5555555555555556, \"#d8576b\"], [0.6666666666666666, \"#ed7953\"], [0.7777777777777778, \"#fb9f3a\"], [0.8888888888888888, \"#fdca26\"], [1.0, \"#f0f921\"]], \"diverging\": [[0, \"#8e0152\"], [0.1, \"#c51b7d\"], [0.2, \"#de77ae\"], [0.3, \"#f1b6da\"], [0.4, \"#fde0ef\"], [0.5, \"#f7f7f7\"], [0.6, \"#e6f5d0\"], [0.7, \"#b8e186\"], [0.8, \"#7fbc41\"], [0.9, \"#4d9221\"], [1, \"#276419\"]]}, \"xaxis\": {\"gridcolor\": \"white\", \"linecolor\": \"white\", \"ticks\": \"\", \"title\": {\"standoff\": 15}, \"zerolinecolor\": \"white\", \"automargin\": true, \"zerolinewidth\": 2}, \"yaxis\": {\"gridcolor\": \"white\", \"linecolor\": \"white\", \"ticks\": \"\", \"title\": {\"standoff\": 15}, \"zerolinecolor\": \"white\", \"automargin\": true, \"zerolinewidth\": 2}, \"scene\": {\"xaxis\": {\"backgroundcolor\": \"#E5ECF6\", \"gridcolor\": \"white\", \"linecolor\": \"white\", \"showbackground\": true, \"ticks\": \"\", \"zerolinecolor\": \"white\", \"gridwidth\": 2}, \"yaxis\": {\"backgroundcolor\": \"#E5ECF6\", \"gridcolor\": \"white\", \"linecolor\": \"white\", \"showbackground\": true, \"ticks\": \"\", \"zerolinecolor\": \"white\", \"gridwidth\": 2}, \"zaxis\": {\"backgroundcolor\": \"#E5ECF6\", \"gridcolor\": \"white\", \"linecolor\": \"white\", \"showbackground\": true, \"ticks\": \"\", \"zerolinecolor\": \"white\", \"gridwidth\": 2}}, \"shapedefaults\": {\"line\": {\"color\": \"#2a3f5f\"}}, \"annotationdefaults\": {\"arrowcolor\": \"#2a3f5f\", \"arrowhead\": 0, \"arrowwidth\": 1}, \"geo\": {\"bgcolor\": \"white\", \"landcolor\": \"#E5ECF6\", \"subunitcolor\": \"white\", \"showland\": true, \"showlakes\": true, \"lakecolor\": \"white\"}, \"title\": {\"x\": 0.05}, \"mapbox\": {\"style\": \"light\"}}}, \"xaxis\": {\"anchor\": \"y\", \"domain\": [0.0, 1.0], \"type\": \"date\"}, \"yaxis\": {\"anchor\": \"x\", \"domain\": [0.0, 1.0], \"title\": {\"text\": \"EQP_ID\"}}, \"legend\": {\"title\": {\"text\": \"PRODUCT_ID\"}, \"tracegroupgap\": 0}, \"margin\": {\"t\": 60}, \"barmode\": \"overlay\"}}'"
      ]
     },
     "execution_count": 31,
     "metadata": {},
     "output_type": "execute_result"
    }
   ],
   "source": [
    "import json\n",
    "import plotly\n",
    "graph_json = json.dumps(timline_view, cls=plotly.utils.PlotlyJSONEncoder)\n",
    "graph_json"
   ]
  },
  {
   "cell_type": "code",
   "execution_count": null,
   "metadata": {},
   "outputs": [],
   "source": []
  },
  {
   "cell_type": "code",
   "execution_count": null,
   "metadata": {},
   "outputs": [],
   "source": [
    "px.timeline(df, x_start)"
   ]
  }
 ],
 "metadata": {
  "kernelspec": {
   "display_name": "Python 3",
   "language": "python",
   "name": "python3"
  },
  "language_info": {
   "codemirror_mode": {
    "name": "ipython",
    "version": 3
   },
   "file_extension": ".py",
   "mimetype": "text/x-python",
   "name": "python",
   "nbconvert_exporter": "python",
   "pygments_lexer": "ipython3",
   "version": "3.8.3"
  }
 },
 "nbformat": 4,
 "nbformat_minor": 4
}
